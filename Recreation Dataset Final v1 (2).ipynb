{
 "cells": [
  {
   "cell_type": "markdown",
   "id": "8a650d6c-bec6-46e0-8638-e52e2a5226c4",
   "metadata": {
    "id": "8a650d6c-bec6-46e0-8638-e52e2a5226c4"
   },
   "source": [
    "# Install Packages"
   ]
  },
  {
   "cell_type": "code",
   "execution_count": null,
   "id": "58ba0682-4d9c-45a4-9eb8-4697ae65e9dd",
   "metadata": {
    "colab": {
     "base_uri": "https://localhost:8080/"
    },
    "id": "58ba0682-4d9c-45a4-9eb8-4697ae65e9dd",
    "outputId": "48d9f6b6-5368-4919-cb30-b01c85b6435d"
   },
   "outputs": [
    {
     "name": "stdout",
     "output_type": "stream",
     "text": [
      "Collecting ir_datasets\n",
      "  Downloading ir_datasets-0.5.7-py3-none-any.whl (337 kB)\n",
      "\u001b[?25l     \u001b[90m━━━━━━━━━━━━━━━━━━━━━━━━━━━━━━━━━━━━━━━━\u001b[0m \u001b[32m0.0/337.9 kB\u001b[0m \u001b[31m?\u001b[0m eta \u001b[36m-:--:--\u001b[0m\r",
      "\u001b[2K     \u001b[91m━━━━━━━\u001b[0m\u001b[90m╺\u001b[0m\u001b[90m━━━━━━━━━━━━━━━━━━━━━━━━━━━━━━━━\u001b[0m \u001b[32m61.4/337.9 kB\u001b[0m \u001b[31m1.7 MB/s\u001b[0m eta \u001b[36m0:00:01\u001b[0m\r",
      "\u001b[2K     \u001b[91m━━━━━━━━━━━━━━━━━━━━━━━━━━━━━━━━━━━━━━\u001b[0m\u001b[91m╸\u001b[0m\u001b[90m━\u001b[0m \u001b[32m327.7/337.9 kB\u001b[0m \u001b[31m4.9 MB/s\u001b[0m eta \u001b[36m0:00:01\u001b[0m\r",
      "\u001b[2K     \u001b[90m━━━━━━━━━━━━━━━━━━━━━━━━━━━━━━━━━━━━━━━━\u001b[0m \u001b[32m337.9/337.9 kB\u001b[0m \u001b[31m4.2 MB/s\u001b[0m eta \u001b[36m0:00:00\u001b[0m\n",
      "\u001b[?25hRequirement already satisfied: beautifulsoup4>=4.4.1 in /usr/local/lib/python3.10/dist-packages (from ir_datasets) (4.12.3)\n",
      "Collecting inscriptis>=2.2.0 (from ir_datasets)\n",
      "  Downloading inscriptis-2.5.0-py3-none-any.whl (45 kB)\n",
      "\u001b[2K     \u001b[90m━━━━━━━━━━━━━━━━━━━━━━━━━━━━━━━━━━━━━━━━\u001b[0m \u001b[32m45.4/45.4 kB\u001b[0m \u001b[31m3.9 MB/s\u001b[0m eta \u001b[36m0:00:00\u001b[0m\n",
      "\u001b[?25hRequirement already satisfied: lxml>=4.5.2 in /usr/local/lib/python3.10/dist-packages (from ir_datasets) (4.9.4)\n",
      "Requirement already satisfied: numpy>=1.18.1 in /usr/local/lib/python3.10/dist-packages (from ir_datasets) (1.25.2)\n",
      "Requirement already satisfied: pyyaml>=5.3.1 in /usr/local/lib/python3.10/dist-packages (from ir_datasets) (6.0.1)\n",
      "Requirement already satisfied: requests>=2.22.0 in /usr/local/lib/python3.10/dist-packages (from ir_datasets) (2.31.0)\n",
      "Requirement already satisfied: tqdm>=4.38.0 in /usr/local/lib/python3.10/dist-packages (from ir_datasets) (4.66.4)\n",
      "Collecting trec-car-tools>=2.5.4 (from ir_datasets)\n",
      "  Downloading trec_car_tools-2.6-py3-none-any.whl (8.4 kB)\n",
      "Collecting lz4>=3.1.10 (from ir_datasets)\n",
      "  Downloading lz4-4.3.3-cp310-cp310-manylinux_2_17_x86_64.manylinux2014_x86_64.whl (1.3 MB)\n",
      "\u001b[2K     \u001b[90m━━━━━━━━━━━━━━━━━━━━━━━━━━━━━━━━━━━━━━━━\u001b[0m \u001b[32m1.3/1.3 MB\u001b[0m \u001b[31m28.9 MB/s\u001b[0m eta \u001b[36m0:00:00\u001b[0m\n",
      "\u001b[?25hCollecting warc3-wet>=0.2.3 (from ir_datasets)\n",
      "  Downloading warc3_wet-0.2.3-py3-none-any.whl (13 kB)\n",
      "Collecting warc3-wet-clueweb09>=0.2.5 (from ir_datasets)\n",
      "  Downloading warc3-wet-clueweb09-0.2.5.tar.gz (17 kB)\n",
      "  Preparing metadata (setup.py) ... \u001b[?25l\u001b[?25hdone\n",
      "Collecting zlib-state>=0.1.3 (from ir_datasets)\n",
      "  Downloading zlib-state-0.1.6.tar.gz (9.5 kB)\n",
      "  Installing build dependencies ... \u001b[?25l\u001b[?25hdone\n",
      "  Getting requirements to build wheel ... \u001b[?25l\u001b[?25hdone\n",
      "  Installing backend dependencies ... \u001b[?25l\u001b[?25hdone\n",
      "  Preparing metadata (pyproject.toml) ... \u001b[?25l\u001b[?25hdone\n",
      "Collecting ijson>=3.1.3 (from ir_datasets)\n",
      "  Downloading ijson-3.2.3-cp310-cp310-manylinux_2_17_x86_64.manylinux2014_x86_64.whl (111 kB)\n",
      "\u001b[2K     \u001b[90m━━━━━━━━━━━━━━━━━━━━━━━━━━━━━━━━━━━━━━━━\u001b[0m \u001b[32m111.8/111.8 kB\u001b[0m \u001b[31m11.7 MB/s\u001b[0m eta \u001b[36m0:00:00\u001b[0m\n",
      "\u001b[?25hCollecting unlzw3>=0.2.1 (from ir_datasets)\n",
      "  Downloading unlzw3-0.2.2-py3-none-any.whl (6.1 kB)\n",
      "Requirement already satisfied: soupsieve>1.2 in /usr/local/lib/python3.10/dist-packages (from beautifulsoup4>=4.4.1->ir_datasets) (2.5)\n",
      "Requirement already satisfied: charset-normalizer<4,>=2 in /usr/local/lib/python3.10/dist-packages (from requests>=2.22.0->ir_datasets) (3.3.2)\n",
      "Requirement already satisfied: idna<4,>=2.5 in /usr/local/lib/python3.10/dist-packages (from requests>=2.22.0->ir_datasets) (3.7)\n",
      "Requirement already satisfied: urllib3<3,>=1.21.1 in /usr/local/lib/python3.10/dist-packages (from requests>=2.22.0->ir_datasets) (2.0.7)\n",
      "Requirement already satisfied: certifi>=2017.4.17 in /usr/local/lib/python3.10/dist-packages (from requests>=2.22.0->ir_datasets) (2024.2.2)\n",
      "Collecting cbor>=1.0.0 (from trec-car-tools>=2.5.4->ir_datasets)\n",
      "  Downloading cbor-1.0.0.tar.gz (20 kB)\n",
      "  Preparing metadata (setup.py) ... \u001b[?25l\u001b[?25hdone\n",
      "Building wheels for collected packages: warc3-wet-clueweb09, zlib-state, cbor\n",
      "  Building wheel for warc3-wet-clueweb09 (setup.py) ... \u001b[?25l\u001b[?25hdone\n",
      "  Created wheel for warc3-wet-clueweb09: filename=warc3_wet_clueweb09-0.2.5-py3-none-any.whl size=18919 sha256=25a7a25988c21a7107edb2b076b21efc6b2a22eb9b651967e1eee4689eebe2ec\n",
      "  Stored in directory: /root/.cache/pip/wheels/1a/d7/91/7ffb991df87e62355d945745035470ba2616aa3d83a250b5f9\n",
      "  Building wheel for zlib-state (pyproject.toml) ... \u001b[?25l\u001b[?25hdone\n",
      "  Created wheel for zlib-state: filename=zlib_state-0.1.6-cp310-cp310-linux_x86_64.whl size=21165 sha256=7c3f4bc9f62fffe79bb0e41e1ab83a43e8cd127d216cd81eef719fb1ce9e7f93\n",
      "  Stored in directory: /root/.cache/pip/wheels/32/72/7e/aff80f26e926b6e1fb08dfb52aba03c0e058f5e2258deb50a9\n",
      "  Building wheel for cbor (setup.py) ... \u001b[?25l\u001b[?25hdone\n",
      "  Created wheel for cbor: filename=cbor-1.0.0-cp310-cp310-linux_x86_64.whl size=53431 sha256=0d73cd1f56e697ae64f65230832628d53daa50dce99b30675e43d6f1b0acfeff\n",
      "  Stored in directory: /root/.cache/pip/wheels/85/df/c9/b39e40eccaf76dbd218556639a6dc81562226f4c6a64902c85\n",
      "Successfully built warc3-wet-clueweb09 zlib-state cbor\n",
      "Installing collected packages: warc3-wet-clueweb09, warc3-wet, ijson, cbor, zlib-state, unlzw3, trec-car-tools, lz4, inscriptis, ir_datasets\n",
      "Successfully installed cbor-1.0.0 ijson-3.2.3 inscriptis-2.5.0 ir_datasets-0.5.7 lz4-4.3.3 trec-car-tools-2.6 unlzw3-0.2.2 warc3-wet-0.2.3 warc3-wet-clueweb09-0.2.5 zlib-state-0.1.6\n"
     ]
    }
   ],
   "source": [
    "pip install --upgrade ir_datasets"
   ]
  },
  {
   "cell_type": "code",
   "execution_count": null,
   "id": "207afbfd-5df9-4f9e-a3df-5ea9f8d997e1",
   "metadata": {
    "id": "207afbfd-5df9-4f9e-a3df-5ea9f8d997e1",
    "scrolled": true
   },
   "outputs": [],
   "source": [
    "  # pip install python-terrier"
   ]
  },
  {
   "cell_type": "code",
   "execution_count": null,
   "id": "476c9a03-9efe-4a2b-80d3-8d302beae5e8",
   "metadata": {
    "id": "476c9a03-9efe-4a2b-80d3-8d302beae5e8"
   },
   "outputs": [],
   "source": [
    "# pip install ir-measures"
   ]
  },
  {
   "cell_type": "code",
   "execution_count": null,
   "id": "ef3939e9-ae64-49ba-936b-5cdd359f45ab",
   "metadata": {
    "id": "ef3939e9-ae64-49ba-936b-5cdd359f45ab"
   },
   "outputs": [],
   "source": [
    "# !pip install pyspellchecker"
   ]
  },
  {
   "cell_type": "code",
   "execution_count": null,
   "id": "8GVO8pWi8HEx",
   "metadata": {
    "colab": {
     "base_uri": "https://localhost:8080/"
    },
    "id": "8GVO8pWi8HEx",
    "outputId": "ce2246e9-6513-40ee-e2a3-fcdb05d9103d"
   },
   "outputs": [
    {
     "name": "stderr",
     "output_type": "stream",
     "text": [
      "[nltk_data] Downloading package punkt to /root/nltk_data...\n",
      "[nltk_data]   Unzipping tokenizers/punkt.zip.\n",
      "[nltk_data] Downloading package stopwords to /root/nltk_data...\n",
      "[nltk_data]   Unzipping corpora/stopwords.zip.\n",
      "[nltk_data] Downloading package wordnet to /root/nltk_data...\n",
      "[nltk_data] Downloading package omw-1.4 to /root/nltk_data...\n",
      "[nltk_data] Downloading package averaged_perceptron_tagger to\n",
      "[nltk_data]     /root/nltk_data...\n",
      "[nltk_data]   Unzipping taggers/averaged_perceptron_tagger.zip.\n"
     ]
    },
    {
     "data": {
      "text/plain": [
       "True"
      ]
     },
     "execution_count": 5,
     "metadata": {},
     "output_type": "execute_result"
    }
   ],
   "source": [
    "import nltk\n",
    "nltk.download('punkt')\n",
    "nltk.download('stopwords')\n",
    "nltk.download('wordnet')\n",
    "nltk.download('omw-1.4')\n",
    "nltk.download('averaged_perceptron_tagger')"
   ]
  },
  {
   "cell_type": "code",
   "execution_count": null,
   "id": "IOa_4NGV_HqZ",
   "metadata": {
    "id": "IOa_4NGV_HqZ"
   },
   "outputs": [],
   "source": [
    "# !pip install gdown"
   ]
  },
  {
   "cell_type": "code",
   "execution_count": null,
   "id": "hq_KkHT2tZ_a",
   "metadata": {
    "id": "hq_KkHT2tZ_a"
   },
   "outputs": [],
   "source": [
    "# pip install datefinder"
   ]
  },
  {
   "cell_type": "code",
   "execution_count": null,
   "id": "Z76TQoq0V5a2",
   "metadata": {
    "colab": {
     "base_uri": "https://localhost:8080/"
    },
    "id": "Z76TQoq0V5a2",
    "outputId": "1f5ce8ba-899b-446d-e0ba-dc66f94d6578"
   },
   "outputs": [
    {
     "name": "stdout",
     "output_type": "stream",
     "text": [
      "Requirement already satisfied: nltk in /usr/local/lib/python3.10/dist-packages (3.8.1)\n",
      "Collecting sentence-transformers\n",
      "  Downloading sentence_transformers-3.0.0-py3-none-any.whl (224 kB)\n",
      "\u001b[2K     \u001b[90m━━━━━━━━━━━━━━━━━━━━━━━━━━━━━━━━━━━━━━━━\u001b[0m \u001b[32m224.7/224.7 kB\u001b[0m \u001b[31m6.6 MB/s\u001b[0m eta \u001b[36m0:00:00\u001b[0m\n",
      "\u001b[?25hRequirement already satisfied: click in /usr/local/lib/python3.10/dist-packages (from nltk) (8.1.7)\n",
      "Requirement already satisfied: joblib in /usr/local/lib/python3.10/dist-packages (from nltk) (1.4.2)\n",
      "Requirement already satisfied: regex>=2021.8.3 in /usr/local/lib/python3.10/dist-packages (from nltk) (2024.5.15)\n",
      "Requirement already satisfied: tqdm in /usr/local/lib/python3.10/dist-packages (from nltk) (4.66.4)\n",
      "Requirement already satisfied: transformers<5.0.0,>=4.34.0 in /usr/local/lib/python3.10/dist-packages (from sentence-transformers) (4.41.1)\n",
      "Requirement already satisfied: torch>=1.11.0 in /usr/local/lib/python3.10/dist-packages (from sentence-transformers) (2.3.0+cu121)\n",
      "Requirement already satisfied: numpy in /usr/local/lib/python3.10/dist-packages (from sentence-transformers) (1.25.2)\n",
      "Requirement already satisfied: scikit-learn in /usr/local/lib/python3.10/dist-packages (from sentence-transformers) (1.2.2)\n",
      "Requirement already satisfied: scipy in /usr/local/lib/python3.10/dist-packages (from sentence-transformers) (1.11.4)\n",
      "Requirement already satisfied: huggingface-hub>=0.15.1 in /usr/local/lib/python3.10/dist-packages (from sentence-transformers) (0.23.1)\n",
      "Requirement already satisfied: Pillow in /usr/local/lib/python3.10/dist-packages (from sentence-transformers) (9.4.0)\n",
      "Requirement already satisfied: filelock in /usr/local/lib/python3.10/dist-packages (from huggingface-hub>=0.15.1->sentence-transformers) (3.14.0)\n",
      "Requirement already satisfied: fsspec>=2023.5.0 in /usr/local/lib/python3.10/dist-packages (from huggingface-hub>=0.15.1->sentence-transformers) (2023.6.0)\n",
      "Requirement already satisfied: packaging>=20.9 in /usr/local/lib/python3.10/dist-packages (from huggingface-hub>=0.15.1->sentence-transformers) (24.0)\n",
      "Requirement already satisfied: pyyaml>=5.1 in /usr/local/lib/python3.10/dist-packages (from huggingface-hub>=0.15.1->sentence-transformers) (6.0.1)\n",
      "Requirement already satisfied: requests in /usr/local/lib/python3.10/dist-packages (from huggingface-hub>=0.15.1->sentence-transformers) (2.31.0)\n",
      "Requirement already satisfied: typing-extensions>=3.7.4.3 in /usr/local/lib/python3.10/dist-packages (from huggingface-hub>=0.15.1->sentence-transformers) (4.11.0)\n",
      "Requirement already satisfied: sympy in /usr/local/lib/python3.10/dist-packages (from torch>=1.11.0->sentence-transformers) (1.12)\n",
      "Requirement already satisfied: networkx in /usr/local/lib/python3.10/dist-packages (from torch>=1.11.0->sentence-transformers) (3.3)\n",
      "Requirement already satisfied: jinja2 in /usr/local/lib/python3.10/dist-packages (from torch>=1.11.0->sentence-transformers) (3.1.4)\n",
      "Collecting nvidia-cuda-nvrtc-cu12==12.1.105 (from torch>=1.11.0->sentence-transformers)\n",
      "  Using cached nvidia_cuda_nvrtc_cu12-12.1.105-py3-none-manylinux1_x86_64.whl (23.7 MB)\n",
      "Collecting nvidia-cuda-runtime-cu12==12.1.105 (from torch>=1.11.0->sentence-transformers)\n",
      "  Using cached nvidia_cuda_runtime_cu12-12.1.105-py3-none-manylinux1_x86_64.whl (823 kB)\n",
      "Collecting nvidia-cuda-cupti-cu12==12.1.105 (from torch>=1.11.0->sentence-transformers)\n",
      "  Using cached nvidia_cuda_cupti_cu12-12.1.105-py3-none-manylinux1_x86_64.whl (14.1 MB)\n",
      "Collecting nvidia-cudnn-cu12==8.9.2.26 (from torch>=1.11.0->sentence-transformers)\n",
      "  Using cached nvidia_cudnn_cu12-8.9.2.26-py3-none-manylinux1_x86_64.whl (731.7 MB)\n",
      "Collecting nvidia-cublas-cu12==12.1.3.1 (from torch>=1.11.0->sentence-transformers)\n",
      "  Using cached nvidia_cublas_cu12-12.1.3.1-py3-none-manylinux1_x86_64.whl (410.6 MB)\n",
      "Collecting nvidia-cufft-cu12==11.0.2.54 (from torch>=1.11.0->sentence-transformers)\n",
      "  Using cached nvidia_cufft_cu12-11.0.2.54-py3-none-manylinux1_x86_64.whl (121.6 MB)\n",
      "Collecting nvidia-curand-cu12==10.3.2.106 (from torch>=1.11.0->sentence-transformers)\n",
      "  Using cached nvidia_curand_cu12-10.3.2.106-py3-none-manylinux1_x86_64.whl (56.5 MB)\n",
      "Collecting nvidia-cusolver-cu12==11.4.5.107 (from torch>=1.11.0->sentence-transformers)\n",
      "  Using cached nvidia_cusolver_cu12-11.4.5.107-py3-none-manylinux1_x86_64.whl (124.2 MB)\n",
      "Collecting nvidia-cusparse-cu12==12.1.0.106 (from torch>=1.11.0->sentence-transformers)\n",
      "  Using cached nvidia_cusparse_cu12-12.1.0.106-py3-none-manylinux1_x86_64.whl (196.0 MB)\n",
      "Collecting nvidia-nccl-cu12==2.20.5 (from torch>=1.11.0->sentence-transformers)\n",
      "  Using cached nvidia_nccl_cu12-2.20.5-py3-none-manylinux2014_x86_64.whl (176.2 MB)\n",
      "Collecting nvidia-nvtx-cu12==12.1.105 (from torch>=1.11.0->sentence-transformers)\n",
      "  Using cached nvidia_nvtx_cu12-12.1.105-py3-none-manylinux1_x86_64.whl (99 kB)\n",
      "Requirement already satisfied: triton==2.3.0 in /usr/local/lib/python3.10/dist-packages (from torch>=1.11.0->sentence-transformers) (2.3.0)\n",
      "Collecting nvidia-nvjitlink-cu12 (from nvidia-cusolver-cu12==11.4.5.107->torch>=1.11.0->sentence-transformers)\n",
      "  Downloading nvidia_nvjitlink_cu12-12.5.40-py3-none-manylinux2014_x86_64.whl (21.3 MB)\n",
      "\u001b[2K     \u001b[90m━━━━━━━━━━━━━━━━━━━━━━━━━━━━━━━━━━━━━━━━\u001b[0m \u001b[32m21.3/21.3 MB\u001b[0m \u001b[31m55.4 MB/s\u001b[0m eta \u001b[36m0:00:00\u001b[0m\n",
      "\u001b[?25hRequirement already satisfied: tokenizers<0.20,>=0.19 in /usr/local/lib/python3.10/dist-packages (from transformers<5.0.0,>=4.34.0->sentence-transformers) (0.19.1)\n",
      "Requirement already satisfied: safetensors>=0.4.1 in /usr/local/lib/python3.10/dist-packages (from transformers<5.0.0,>=4.34.0->sentence-transformers) (0.4.3)\n",
      "Requirement already satisfied: threadpoolctl>=2.0.0 in /usr/local/lib/python3.10/dist-packages (from scikit-learn->sentence-transformers) (3.5.0)\n",
      "Requirement already satisfied: MarkupSafe>=2.0 in /usr/local/lib/python3.10/dist-packages (from jinja2->torch>=1.11.0->sentence-transformers) (2.1.5)\n",
      "Requirement already satisfied: charset-normalizer<4,>=2 in /usr/local/lib/python3.10/dist-packages (from requests->huggingface-hub>=0.15.1->sentence-transformers) (3.3.2)\n",
      "Requirement already satisfied: idna<4,>=2.5 in /usr/local/lib/python3.10/dist-packages (from requests->huggingface-hub>=0.15.1->sentence-transformers) (3.7)\n",
      "Requirement already satisfied: urllib3<3,>=1.21.1 in /usr/local/lib/python3.10/dist-packages (from requests->huggingface-hub>=0.15.1->sentence-transformers) (2.0.7)\n",
      "Requirement already satisfied: certifi>=2017.4.17 in /usr/local/lib/python3.10/dist-packages (from requests->huggingface-hub>=0.15.1->sentence-transformers) (2024.2.2)\n",
      "Requirement already satisfied: mpmath>=0.19 in /usr/local/lib/python3.10/dist-packages (from sympy->torch>=1.11.0->sentence-transformers) (1.3.0)\n",
      "Installing collected packages: nvidia-nvtx-cu12, nvidia-nvjitlink-cu12, nvidia-nccl-cu12, nvidia-curand-cu12, nvidia-cufft-cu12, nvidia-cuda-runtime-cu12, nvidia-cuda-nvrtc-cu12, nvidia-cuda-cupti-cu12, nvidia-cublas-cu12, nvidia-cusparse-cu12, nvidia-cudnn-cu12, nvidia-cusolver-cu12, sentence-transformers\n",
      "Successfully installed nvidia-cublas-cu12-12.1.3.1 nvidia-cuda-cupti-cu12-12.1.105 nvidia-cuda-nvrtc-cu12-12.1.105 nvidia-cuda-runtime-cu12-12.1.105 nvidia-cudnn-cu12-8.9.2.26 nvidia-cufft-cu12-11.0.2.54 nvidia-curand-cu12-10.3.2.106 nvidia-cusolver-cu12-11.4.5.107 nvidia-cusparse-cu12-12.1.0.106 nvidia-nccl-cu12-2.20.5 nvidia-nvjitlink-cu12-12.5.40 nvidia-nvtx-cu12-12.1.105 sentence-transformers-3.0.0\n"
     ]
    }
   ],
   "source": [
    "pip install nltk sentence-transformers"
   ]
  },
  {
   "cell_type": "markdown",
   "id": "6612f676-5686-4d48-b428-53e849318c1c",
   "metadata": {
    "id": "6612f676-5686-4d48-b428-53e849318c1c"
   },
   "source": [
    "# Import Libraries"
   ]
  },
  {
   "cell_type": "code",
   "execution_count": null,
   "id": "2dcf75e0-018b-4efe-acf9-b523c76c5a7a",
   "metadata": {
    "id": "2dcf75e0-018b-4efe-acf9-b523c76c5a7a"
   },
   "outputs": [],
   "source": [
    "import pandas as pd\n",
    "import numpy as np\n",
    "import ir_datasets\n",
    "import nltk\n",
    "import re\n",
    "import string\n",
    "from nltk.tokenize import word_tokenize , sent_tokenize\n",
    "from nltk.corpus import stopwords\n",
    "from nltk import pos_tag\n",
    "from nltk.corpus import wordnet\n",
    "# from spellchecker import SpellChecker\n",
    "from typing import List\n",
    "from nltk.stem import WordNetLemmatizer\n",
    "from nltk.stem import PorterStemmer\n",
    "# import gdown\n",
    "from google.colab import files\n",
    "from collections import defaultdict\n",
    "from sklearn.feature_extraction.text import TfidfVectorizer\n",
    "from sklearn.metrics.pairwise import cosine_similarity\n",
    "# import datefinder"
   ]
  },
  {
   "cell_type": "markdown",
   "id": "45504cc6-4ee0-4ea9-9dca-24fcc1eac801",
   "metadata": {
    "id": "45504cc6-4ee0-4ea9-9dca-24fcc1eac801"
   },
   "source": [
    "# Downloads Datasets"
   ]
  },
  {
   "cell_type": "markdown",
   "id": "2bd018e4-c741-4e9a-83c8-56f99cf308c7",
   "metadata": {
    "id": "2bd018e4-c741-4e9a-83c8-56f99cf308c7"
   },
   "source": [
    "### Load Recreation Dataset && Understand dataset"
   ]
  },
  {
   "cell_type": "code",
   "execution_count": null,
   "id": "5d5f0100-c8a4-4c2f-8988-4be4546f0b36",
   "metadata": {
    "colab": {
     "base_uri": "https://localhost:8080/"
    },
    "id": "5d5f0100-c8a4-4c2f-8988-4be4546f0b36",
    "outputId": "9a42dad7-75c9-4949-9235-2b8a74308af8"
   },
   "outputs": [
    {
     "name": "stderr",
     "output_type": "stream",
     "text": [
      "[INFO] If you have a local copy of https://downloads.cs.stanford.edu/nlp/data/colbert/colbertv2/lotte.tar.gz, you can symlink it here to avoid downloading it again: /root/.ir_datasets/downloads/3b2e88b1d66933627462950b4c3f5d0f\n",
      "[INFO] [starting] https://downloads.cs.stanford.edu/nlp/data/colbert/colbertv2/lotte.tar.gz\n",
      "[INFO] [finished] https://downloads.cs.stanford.edu/nlp/data/colbert/colbertv2/lotte.tar.gz: [11:16] [3.58GB] [5.28MB/s]\n",
      "[INFO] [starting] extracting from tar file\n",
      "[INFO] [finished] extracting from tar file [01:49]\n"
     ]
    }
   ],
   "source": [
    "dataset = ir_datasets.load(\"lotte/recreation/dev/forum\")\n",
    "for doc in dataset.docs_iter():\n",
    "    doc # namedtuple<doc_id, text>"
   ]
  },
  {
   "cell_type": "code",
   "execution_count": null,
   "id": "36b630bb-d721-4b1a-8cc6-48c80ce1118b",
   "metadata": {
    "colab": {
     "base_uri": "https://localhost:8080/"
    },
    "id": "36b630bb-d721-4b1a-8cc6-48c80ce1118b",
    "outputId": "d0d13dc6-8f72-4036-b3f6-e25eb6a87395"
   },
   "outputs": [
    {
     "data": {
      "text/plain": [
       "263025"
      ]
     },
     "execution_count": 9,
     "metadata": {},
     "output_type": "execute_result"
    }
   ],
   "source": [
    "dataset.docs_count()"
   ]
  },
  {
   "cell_type": "code",
   "execution_count": null,
   "id": "b0c331d1-915d-4130-8a03-b990999072cd",
   "metadata": {
    "id": "b0c331d1-915d-4130-8a03-b990999072cd"
   },
   "outputs": [],
   "source": [
    "docs = pd.DataFrame(dataset.docs_iter())"
   ]
  },
  {
   "cell_type": "code",
   "execution_count": null,
   "id": "9fade8d6-5193-45b2-9bde-204e52228561",
   "metadata": {
    "colab": {
     "base_uri": "https://localhost:8080/",
     "height": 206
    },
    "id": "9fade8d6-5193-45b2-9bde-204e52228561",
    "outputId": "417e73ac-799a-4c44-bbd6-1b309b82857d"
   },
   "outputs": [
    {
     "data": {
      "application/vnd.google.colaboratory.intrinsic+json": {
       "type": "dataframe",
       "variable_name": "docs"
      },
      "text/html": [
       "\n",
       "  <div id=\"df-5726baa5-56f6-4ca6-987b-da6b5b4c495e\" class=\"colab-df-container\">\n",
       "    <div>\n",
       "<style scoped>\n",
       "    .dataframe tbody tr th:only-of-type {\n",
       "        vertical-align: middle;\n",
       "    }\n",
       "\n",
       "    .dataframe tbody tr th {\n",
       "        vertical-align: top;\n",
       "    }\n",
       "\n",
       "    .dataframe thead th {\n",
       "        text-align: right;\n",
       "    }\n",
       "</style>\n",
       "<table border=\"1\" class=\"dataframe\">\n",
       "  <thead>\n",
       "    <tr style=\"text-align: right;\">\n",
       "      <th></th>\n",
       "      <th>doc_id</th>\n",
       "      <th>text</th>\n",
       "    </tr>\n",
       "  </thead>\n",
       "  <tbody>\n",
       "    <tr>\n",
       "      <th>0</th>\n",
       "      <td>0</td>\n",
       "      <td>Multiclassing no longer takes an XP hit, and y...</td>\n",
       "    </tr>\n",
       "    <tr>\n",
       "      <th>1</th>\n",
       "      <td>1</td>\n",
       "      <td>There's a fairly large smattering of stuff. He...</td>\n",
       "    </tr>\n",
       "    <tr>\n",
       "      <th>2</th>\n",
       "      <td>2</td>\n",
       "      <td>In 3rd edition this was not an official rule, ...</td>\n",
       "    </tr>\n",
       "    <tr>\n",
       "      <th>3</th>\n",
       "      <td>3</td>\n",
       "      <td>The only official ruling I can recall in any c...</td>\n",
       "    </tr>\n",
       "    <tr>\n",
       "      <th>4</th>\n",
       "      <td>4</td>\n",
       "      <td>I like this one, that I use on occasion: ‎Jrey...</td>\n",
       "    </tr>\n",
       "  </tbody>\n",
       "</table>\n",
       "</div>\n",
       "    <div class=\"colab-df-buttons\">\n",
       "\n",
       "  <div class=\"colab-df-container\">\n",
       "    <button class=\"colab-df-convert\" onclick=\"convertToInteractive('df-5726baa5-56f6-4ca6-987b-da6b5b4c495e')\"\n",
       "            title=\"Convert this dataframe to an interactive table.\"\n",
       "            style=\"display:none;\">\n",
       "\n",
       "  <svg xmlns=\"http://www.w3.org/2000/svg\" height=\"24px\" viewBox=\"0 -960 960 960\">\n",
       "    <path d=\"M120-120v-720h720v720H120Zm60-500h600v-160H180v160Zm220 220h160v-160H400v160Zm0 220h160v-160H400v160ZM180-400h160v-160H180v160Zm440 0h160v-160H620v160ZM180-180h160v-160H180v160Zm440 0h160v-160H620v160Z\"/>\n",
       "  </svg>\n",
       "    </button>\n",
       "\n",
       "  <style>\n",
       "    .colab-df-container {\n",
       "      display:flex;\n",
       "      gap: 12px;\n",
       "    }\n",
       "\n",
       "    .colab-df-convert {\n",
       "      background-color: #E8F0FE;\n",
       "      border: none;\n",
       "      border-radius: 50%;\n",
       "      cursor: pointer;\n",
       "      display: none;\n",
       "      fill: #1967D2;\n",
       "      height: 32px;\n",
       "      padding: 0 0 0 0;\n",
       "      width: 32px;\n",
       "    }\n",
       "\n",
       "    .colab-df-convert:hover {\n",
       "      background-color: #E2EBFA;\n",
       "      box-shadow: 0px 1px 2px rgba(60, 64, 67, 0.3), 0px 1px 3px 1px rgba(60, 64, 67, 0.15);\n",
       "      fill: #174EA6;\n",
       "    }\n",
       "\n",
       "    .colab-df-buttons div {\n",
       "      margin-bottom: 4px;\n",
       "    }\n",
       "\n",
       "    [theme=dark] .colab-df-convert {\n",
       "      background-color: #3B4455;\n",
       "      fill: #D2E3FC;\n",
       "    }\n",
       "\n",
       "    [theme=dark] .colab-df-convert:hover {\n",
       "      background-color: #434B5C;\n",
       "      box-shadow: 0px 1px 3px 1px rgba(0, 0, 0, 0.15);\n",
       "      filter: drop-shadow(0px 1px 2px rgba(0, 0, 0, 0.3));\n",
       "      fill: #FFFFFF;\n",
       "    }\n",
       "  </style>\n",
       "\n",
       "    <script>\n",
       "      const buttonEl =\n",
       "        document.querySelector('#df-5726baa5-56f6-4ca6-987b-da6b5b4c495e button.colab-df-convert');\n",
       "      buttonEl.style.display =\n",
       "        google.colab.kernel.accessAllowed ? 'block' : 'none';\n",
       "\n",
       "      async function convertToInteractive(key) {\n",
       "        const element = document.querySelector('#df-5726baa5-56f6-4ca6-987b-da6b5b4c495e');\n",
       "        const dataTable =\n",
       "          await google.colab.kernel.invokeFunction('convertToInteractive',\n",
       "                                                    [key], {});\n",
       "        if (!dataTable) return;\n",
       "\n",
       "        const docLinkHtml = 'Like what you see? Visit the ' +\n",
       "          '<a target=\"_blank\" href=https://colab.research.google.com/notebooks/data_table.ipynb>data table notebook</a>'\n",
       "          + ' to learn more about interactive tables.';\n",
       "        element.innerHTML = '';\n",
       "        dataTable['output_type'] = 'display_data';\n",
       "        await google.colab.output.renderOutput(dataTable, element);\n",
       "        const docLink = document.createElement('div');\n",
       "        docLink.innerHTML = docLinkHtml;\n",
       "        element.appendChild(docLink);\n",
       "      }\n",
       "    </script>\n",
       "  </div>\n",
       "\n",
       "\n",
       "<div id=\"df-80168d27-b7d6-4e28-b125-e058d1e42b11\">\n",
       "  <button class=\"colab-df-quickchart\" onclick=\"quickchart('df-80168d27-b7d6-4e28-b125-e058d1e42b11')\"\n",
       "            title=\"Suggest charts\"\n",
       "            style=\"display:none;\">\n",
       "\n",
       "<svg xmlns=\"http://www.w3.org/2000/svg\" height=\"24px\"viewBox=\"0 0 24 24\"\n",
       "     width=\"24px\">\n",
       "    <g>\n",
       "        <path d=\"M19 3H5c-1.1 0-2 .9-2 2v14c0 1.1.9 2 2 2h14c1.1 0 2-.9 2-2V5c0-1.1-.9-2-2-2zM9 17H7v-7h2v7zm4 0h-2V7h2v10zm4 0h-2v-4h2v4z\"/>\n",
       "    </g>\n",
       "</svg>\n",
       "  </button>\n",
       "\n",
       "<style>\n",
       "  .colab-df-quickchart {\n",
       "      --bg-color: #E8F0FE;\n",
       "      --fill-color: #1967D2;\n",
       "      --hover-bg-color: #E2EBFA;\n",
       "      --hover-fill-color: #174EA6;\n",
       "      --disabled-fill-color: #AAA;\n",
       "      --disabled-bg-color: #DDD;\n",
       "  }\n",
       "\n",
       "  [theme=dark] .colab-df-quickchart {\n",
       "      --bg-color: #3B4455;\n",
       "      --fill-color: #D2E3FC;\n",
       "      --hover-bg-color: #434B5C;\n",
       "      --hover-fill-color: #FFFFFF;\n",
       "      --disabled-bg-color: #3B4455;\n",
       "      --disabled-fill-color: #666;\n",
       "  }\n",
       "\n",
       "  .colab-df-quickchart {\n",
       "    background-color: var(--bg-color);\n",
       "    border: none;\n",
       "    border-radius: 50%;\n",
       "    cursor: pointer;\n",
       "    display: none;\n",
       "    fill: var(--fill-color);\n",
       "    height: 32px;\n",
       "    padding: 0;\n",
       "    width: 32px;\n",
       "  }\n",
       "\n",
       "  .colab-df-quickchart:hover {\n",
       "    background-color: var(--hover-bg-color);\n",
       "    box-shadow: 0 1px 2px rgba(60, 64, 67, 0.3), 0 1px 3px 1px rgba(60, 64, 67, 0.15);\n",
       "    fill: var(--button-hover-fill-color);\n",
       "  }\n",
       "\n",
       "  .colab-df-quickchart-complete:disabled,\n",
       "  .colab-df-quickchart-complete:disabled:hover {\n",
       "    background-color: var(--disabled-bg-color);\n",
       "    fill: var(--disabled-fill-color);\n",
       "    box-shadow: none;\n",
       "  }\n",
       "\n",
       "  .colab-df-spinner {\n",
       "    border: 2px solid var(--fill-color);\n",
       "    border-color: transparent;\n",
       "    border-bottom-color: var(--fill-color);\n",
       "    animation:\n",
       "      spin 1s steps(1) infinite;\n",
       "  }\n",
       "\n",
       "  @keyframes spin {\n",
       "    0% {\n",
       "      border-color: transparent;\n",
       "      border-bottom-color: var(--fill-color);\n",
       "      border-left-color: var(--fill-color);\n",
       "    }\n",
       "    20% {\n",
       "      border-color: transparent;\n",
       "      border-left-color: var(--fill-color);\n",
       "      border-top-color: var(--fill-color);\n",
       "    }\n",
       "    30% {\n",
       "      border-color: transparent;\n",
       "      border-left-color: var(--fill-color);\n",
       "      border-top-color: var(--fill-color);\n",
       "      border-right-color: var(--fill-color);\n",
       "    }\n",
       "    40% {\n",
       "      border-color: transparent;\n",
       "      border-right-color: var(--fill-color);\n",
       "      border-top-color: var(--fill-color);\n",
       "    }\n",
       "    60% {\n",
       "      border-color: transparent;\n",
       "      border-right-color: var(--fill-color);\n",
       "    }\n",
       "    80% {\n",
       "      border-color: transparent;\n",
       "      border-right-color: var(--fill-color);\n",
       "      border-bottom-color: var(--fill-color);\n",
       "    }\n",
       "    90% {\n",
       "      border-color: transparent;\n",
       "      border-bottom-color: var(--fill-color);\n",
       "    }\n",
       "  }\n",
       "</style>\n",
       "\n",
       "  <script>\n",
       "    async function quickchart(key) {\n",
       "      const quickchartButtonEl =\n",
       "        document.querySelector('#' + key + ' button');\n",
       "      quickchartButtonEl.disabled = true;  // To prevent multiple clicks.\n",
       "      quickchartButtonEl.classList.add('colab-df-spinner');\n",
       "      try {\n",
       "        const charts = await google.colab.kernel.invokeFunction(\n",
       "            'suggestCharts', [key], {});\n",
       "      } catch (error) {\n",
       "        console.error('Error during call to suggestCharts:', error);\n",
       "      }\n",
       "      quickchartButtonEl.classList.remove('colab-df-spinner');\n",
       "      quickchartButtonEl.classList.add('colab-df-quickchart-complete');\n",
       "    }\n",
       "    (() => {\n",
       "      let quickchartButtonEl =\n",
       "        document.querySelector('#df-80168d27-b7d6-4e28-b125-e058d1e42b11 button');\n",
       "      quickchartButtonEl.style.display =\n",
       "        google.colab.kernel.accessAllowed ? 'block' : 'none';\n",
       "    })();\n",
       "  </script>\n",
       "</div>\n",
       "    </div>\n",
       "  </div>\n"
      ],
      "text/plain": [
       "  doc_id                                               text\n",
       "0      0  Multiclassing no longer takes an XP hit, and y...\n",
       "1      1  There's a fairly large smattering of stuff. He...\n",
       "2      2  In 3rd edition this was not an official rule, ...\n",
       "3      3  The only official ruling I can recall in any c...\n",
       "4      4  I like this one, that I use on occasion: ‎Jrey..."
      ]
     },
     "execution_count": 11,
     "metadata": {},
     "output_type": "execute_result"
    }
   ],
   "source": [
    "docs.head()"
   ]
  },
  {
   "cell_type": "code",
   "execution_count": null,
   "id": "5d362091-0f18-40a4-a6a3-591b86d1c92a",
   "metadata": {
    "colab": {
     "base_uri": "https://localhost:8080/"
    },
    "id": "5d362091-0f18-40a4-a6a3-591b86d1c92a",
    "outputId": "f675431a-9d64-4aee-b2af-ba414cf5b5a1"
   },
   "outputs": [
    {
     "name": "stdout",
     "output_type": "stream",
     "text": [
      "<class 'pandas.core.frame.DataFrame'>\n",
      "RangeIndex: 263025 entries, 0 to 263024\n",
      "Data columns (total 2 columns):\n",
      " #   Column  Non-Null Count   Dtype \n",
      "---  ------  --------------   ----- \n",
      " 0   doc_id  263025 non-null  object\n",
      " 1   text    263025 non-null  object\n",
      "dtypes: object(2)\n",
      "memory usage: 4.0+ MB\n"
     ]
    }
   ],
   "source": [
    "docs.info()"
   ]
  },
  {
   "cell_type": "code",
   "execution_count": null,
   "id": "77bc38bf-f9f2-4832-9e44-8bfc2bbc6e35",
   "metadata": {
    "id": "77bc38bf-f9f2-4832-9e44-8bfc2bbc6e35"
   },
   "outputs": [],
   "source": [
    "queries = pd.DataFrame(dataset.queries_iter())"
   ]
  },
  {
   "cell_type": "code",
   "execution_count": null,
   "id": "05560cdd-d0ef-49a4-80f6-d93428d67ee6",
   "metadata": {
    "colab": {
     "base_uri": "https://localhost:8080/"
    },
    "id": "05560cdd-d0ef-49a4-80f6-d93428d67ee6",
    "outputId": "62b483de-b81c-48c3-e29b-0fa1c7ab4f2c"
   },
   "outputs": [
    {
     "name": "stdout",
     "output_type": "stream",
     "text": [
      "<class 'pandas.core.frame.DataFrame'>\n",
      "RangeIndex: 2002 entries, 0 to 2001\n",
      "Data columns (total 2 columns):\n",
      " #   Column    Non-Null Count  Dtype \n",
      "---  ------    --------------  ----- \n",
      " 0   query_id  2002 non-null   object\n",
      " 1   text      2002 non-null   object\n",
      "dtypes: object(2)\n",
      "memory usage: 31.4+ KB\n"
     ]
    }
   ],
   "source": [
    "queries.info()"
   ]
  },
  {
   "cell_type": "code",
   "execution_count": null,
   "id": "4bb07f15-54b7-4666-91ad-5a56c234fc8b",
   "metadata": {
    "id": "4bb07f15-54b7-4666-91ad-5a56c234fc8b"
   },
   "outputs": [],
   "source": [
    "qrels = pd.DataFrame(dataset.qrels_iter())"
   ]
  },
  {
   "cell_type": "code",
   "execution_count": null,
   "id": "cb88a5d4-be04-4e3a-8348-8d69f533769e",
   "metadata": {
    "colab": {
     "base_uri": "https://localhost:8080/"
    },
    "id": "cb88a5d4-be04-4e3a-8348-8d69f533769e",
    "outputId": "36d7df4c-ccfb-443d-c099-e1dd0871787a"
   },
   "outputs": [
    {
     "name": "stdout",
     "output_type": "stream",
     "text": [
      "<class 'pandas.core.frame.DataFrame'>\n",
      "RangeIndex: 12752 entries, 0 to 12751\n",
      "Data columns (total 4 columns):\n",
      " #   Column     Non-Null Count  Dtype \n",
      "---  ------     --------------  ----- \n",
      " 0   query_id   12752 non-null  object\n",
      " 1   doc_id     12752 non-null  object\n",
      " 2   relevance  12752 non-null  int64 \n",
      " 3   iteration  12752 non-null  object\n",
      "dtypes: int64(1), object(3)\n",
      "memory usage: 398.6+ KB\n"
     ]
    }
   ],
   "source": [
    "qrels.info()"
   ]
  },
  {
   "cell_type": "code",
   "execution_count": null,
   "id": "aab287ec-422f-4c91-b3fc-c4fdb01b508b",
   "metadata": {
    "colab": {
     "base_uri": "https://localhost:8080/"
    },
    "id": "aab287ec-422f-4c91-b3fc-c4fdb01b508b",
    "outputId": "3e52d27c-6468-4f0b-b4fe-6fa70582550e"
   },
   "outputs": [
    {
     "name": "stdout",
     "output_type": "stream",
     "text": [
      "0\n"
     ]
    }
   ],
   "source": [
    "# check for duplicated data\n",
    "print(len(docs[docs.duplicated()]))"
   ]
  },
  {
   "cell_type": "code",
   "execution_count": null,
   "id": "82e9403d-30e1-414a-8e54-5beebcf6e925",
   "metadata": {
    "colab": {
     "base_uri": "https://localhost:8080/"
    },
    "id": "82e9403d-30e1-414a-8e54-5beebcf6e925",
    "outputId": "bf914698-b5ca-4e16-a0af-f88a44d66d42"
   },
   "outputs": [
    {
     "data": {
      "text/plain": [
       "doc_id    0\n",
       "text      0\n",
       "dtype: int64"
      ]
     },
     "execution_count": 18,
     "metadata": {},
     "output_type": "execute_result"
    }
   ],
   "source": [
    "# check for nullable value\n",
    "docs.isna().sum()"
   ]
  },
  {
   "cell_type": "markdown",
   "id": "67b61c60-ba15-4ca8-b675-37529d7b2539",
   "metadata": {
    "id": "67b61c60-ba15-4ca8-b675-37529d7b2539"
   },
   "source": [
    "# Data Preprocessing"
   ]
  },
  {
   "cell_type": "markdown",
   "id": "e6d1ff97-2995-43b0-85ae-421c5ccce7e7",
   "metadata": {
    "id": "e6d1ff97-2995-43b0-85ae-421c5ccce7e7"
   },
   "source": [
    "## Normalization"
   ]
  },
  {
   "cell_type": "markdown",
   "id": "43b71e99-2c1f-4b4c-a88b-52433ca32eb1",
   "metadata": {
    "id": "43b71e99-2c1f-4b4c-a88b-52433ca32eb1"
   },
   "source": [
    "### Removing Urls"
   ]
  },
  {
   "cell_type": "code",
   "execution_count": null,
   "id": "56945df3-73cf-485b-9efc-f086f17ce5fa",
   "metadata": {
    "colab": {
     "base_uri": "https://localhost:8080/",
     "height": 35
    },
    "id": "56945df3-73cf-485b-9efc-f086f17ce5fa",
    "outputId": "2ffc94cf-5d78-44a5-a1c8-34b25c6a78de"
   },
   "outputs": [
    {
     "data": {
      "application/vnd.google.colaboratory.intrinsic+json": {
       "type": "string"
      },
      "text/plain": [
       "'http://www.meetup.com is a great place'"
      ]
     },
     "execution_count": 68,
     "metadata": {},
     "output_type": "execute_result"
    }
   ],
   "source": [
    "## before filter urls\n",
    "text = docs['text'].iloc[16]\n",
    "text"
   ]
  },
  {
   "cell_type": "code",
   "execution_count": null,
   "id": "e51214b1-68aa-43ce-874a-4b8226a2a255",
   "metadata": {
    "id": "e51214b1-68aa-43ce-874a-4b8226a2a255"
   },
   "outputs": [],
   "source": [
    "def remove_urls(text):\n",
    "    return re.sub(r'http\\S+|www.\\S+', '', text)\n",
    "# docs['text'] = docs['text'].apply(remove_urls)\n",
    "text = remove_urls(text)"
   ]
  },
  {
   "cell_type": "code",
   "execution_count": null,
   "id": "cddf09a1-0786-4842-95d1-1a2ab334e0aa",
   "metadata": {
    "colab": {
     "base_uri": "https://localhost:8080/",
     "height": 35
    },
    "id": "cddf09a1-0786-4842-95d1-1a2ab334e0aa",
    "outputId": "b924cc97-5e28-4648-fb58-76ca6ad08dc1"
   },
   "outputs": [
    {
     "data": {
      "application/vnd.google.colaboratory.intrinsic+json": {
       "type": "string"
      },
      "text/plain": [
       "' is a great place'"
      ]
     },
     "execution_count": 70,
     "metadata": {},
     "output_type": "execute_result"
    }
   ],
   "source": [
    "## after filter urls\n",
    "text"
   ]
  },
  {
   "cell_type": "markdown",
   "id": "365410cd-09e7-45cb-b2eb-e800123478ce",
   "metadata": {
    "id": "365410cd-09e7-45cb-b2eb-e800123478ce"
   },
   "source": [
    "### Language Filtering"
   ]
  },
  {
   "cell_type": "code",
   "execution_count": null,
   "id": "ef70e21b-213b-4b54-a607-90162dc82d70",
   "metadata": {
    "colab": {
     "base_uri": "https://localhost:8080/",
     "height": 261
    },
    "id": "ef70e21b-213b-4b54-a607-90162dc82d70",
    "outputId": "776d3262-602a-44e7-9840-f7f355017fb6"
   },
   "outputs": [
    {
     "data": {
      "application/vnd.google.colaboratory.intrinsic+json": {
       "type": "string"
      },
      "text/plain": [
       "'According to Rulebook, page 22: DECK BUILDING (...) Also, except for basic Energy, you can only have 4 cards with the same name in your deck. This means you can have only 4 cards called “Pignite” in your deck, even if they all have different attacks. Finally, your deck must have at least one Basic Pokémon in it. (...) You can see that deckbuilding rules does not talk about cards, but card names. There are also some parts of Pokémon\\'s name that do not count toward this rule, that is outlined in Rulebook on page 21: WHAT DOES AND DOESN’T COUNT FOR A POKÉMON’S NAME? • Some Pokémon cards have extra information after their name, such as a Level or a symbol like GL. A Pokémon’s name changes how you can evolve or play certain cards. Level is not part of a Pokémon’s name: ◆ Gengar, Gengar LV. 43, Gengar LV. 44, and Gengar LV.X all have the same name • Symbols at the end of a Pokémon’s name are part of a Pokémon’s name: ◆ Alakazam, Alakazam 四, and Alakazam ☆ all have different names from each other ◆ However, δ (Delta Species) is not part of a Pokémon’s name. Aerodactyl and Aerodactyl δ (Delta Species) have the same name • An owner or form name in a Pokémon’s name is part of the Pokémon’s name: ◆ Meowth, Alolan Meowth, and Rocket’s Meowth have different names When you are building a deck, you can have only 4 copies of a card with the same name in it, except for basic Energy cards. If your deck has 1 each of Gengar, Gengar LV. 43, Gengar LV. 44, and Gengar LV.X, you can’t put any more cards named Gengar in your deck! However, you could have 4 Meowth, 4 Alolan Meowth, and 4 Rocket’s Meowth. When evolving, the “evolves from” Pokémon name must match the Pokémon being evolved. So Graveler can evolve from Geodude, or Geodude LV. 12, but not Brock’s Geodude. There is no difference in casual or tournament play, if they follow official rules. There might be some formats that change those rules, like Prerelease tournament that diverges from official rules such as: 40 cards in deck only 4 prizes no \"only 4 Pokémon with the same name deck\" rule I strongly recommend to play using the official rules at all times so you are not surprised when you attend a league or a tournament for the first time.'"
      ]
     },
     "execution_count": 71,
     "metadata": {},
     "output_type": "execute_result"
    }
   ],
   "source": [
    "## before language filtering\n",
    "text = docs['text'].iloc[106208]\n",
    "docs['text'].iloc[106208]"
   ]
  },
  {
   "cell_type": "code",
   "execution_count": null,
   "id": "9f4cb44f-43cd-4798-ae66-ca5735c2690e",
   "metadata": {
    "id": "9f4cb44f-43cd-4798-ae66-ca5735c2690e"
   },
   "outputs": [],
   "source": [
    "def remove_non_english_chars(text):\n",
    "    allowed_chars = string.ascii_letters + string.digits + string.punctuation + \" \"\n",
    "    filtered_text = ''.join(char if char in allowed_chars else '' for char in text)\n",
    "    return filtered_text\n",
    "# usage:\n",
    "# docs['text'] = docs['text'].apply(remove_non_english_chars)\n",
    "text = remove_non_english_chars(text)"
   ]
  },
  {
   "cell_type": "code",
   "execution_count": null,
   "id": "3b1fd632-02c1-4928-b29f-9796732fffa5",
   "metadata": {
    "colab": {
     "base_uri": "https://localhost:8080/",
     "height": 140
    },
    "id": "3b1fd632-02c1-4928-b29f-9796732fffa5",
    "outputId": "4f07411e-ebae-4819-d447-19deeb1b4aee"
   },
   "outputs": [
    {
     "data": {
      "application/vnd.google.colaboratory.intrinsic+json": {
       "type": "string"
      },
      "text/plain": [
       "'According to Rulebook, page 22: DECK BUILDING (...) Also, except for basic Energy, you can only have 4 cards with the same name in your deck. This means you can have only 4 cards called Pignite in your deck, even if they all have different attacks. Finally, your deck must have at least one Basic Pokmon in it. (...) You can see that deckbuilding rules does not talk about cards, but card names. There are also some parts of Pokmon\\'s name that do not count toward this rule, that is outlined in Rulebook on page 21: WHAT DOES AND DOESNT COUNT FOR A POKMONS NAME?  Some Pokmon cards have extra information after their name, such as a Level or a symbol like GL. A Pokmons name changes how you can evolve or play certain cards. Level is not part of a Pokmons name:  Gengar, Gengar LV. 43, Gengar LV. 44, and Gengar LV.X all have the same name  Symbols at the end of a Pokmons name are part of a Pokmons name:  Alakazam, Alakazam , and Alakazam  all have different names from each other  However,  (Delta Species) is not part of a Pokmons name. Aerodactyl and Aerodactyl  (Delta Species) have the same name  An owner or form name in a Pokmons name is part of the Pokmons name:  Meowth, Alolan Meowth, and Rockets Meowth have different names When you are building a deck, you can have only 4 copies of a card with the same name in it, except for basic Energy cards. If your deck has 1 each of Gengar, Gengar LV. 43, Gengar LV. 44, and Gengar LV.X, you cant put any more cards named Gengar in your deck! However, you could have 4 Meowth, 4 Alolan Meowth, and 4 Rockets Meowth. When evolving, the evolves from Pokmon name must match the Pokmon being evolved. So Graveler can evolve from Geodude, or Geodude LV. 12, but not Brocks Geodude. There is no difference in casual or tournament play, if they follow official rules. There might be some formats that change those rules, like Prerelease tournament that diverges from official rules such as: 40 cards in deck only 4 prizes no \"only 4 Pokmon with the same name deck\" rule I strongly recommend to play using the official rules at all times so you are not surprised when you attend a league or a tournament for the first time.'"
      ]
     },
     "execution_count": 73,
     "metadata": {},
     "output_type": "execute_result"
    }
   ],
   "source": [
    "## after language filtering\n",
    "text"
   ]
  },
  {
   "cell_type": "markdown",
   "id": "678456c7-4bb5-4f4e-9cb8-d600f4b656b9",
   "metadata": {
    "id": "678456c7-4bb5-4f4e-9cb8-d600f4b656b9"
   },
   "source": [
    "### Unify abbreviations"
   ]
  },
  {
   "cell_type": "code",
   "execution_count": null,
   "id": "fc802848-d78e-4195-800b-6c48ac843b96",
   "metadata": {
    "id": "fc802848-d78e-4195-800b-6c48ac843b96"
   },
   "outputs": [],
   "source": [
    "# 1. Create a Dictionary of Abbreviations\n",
    "abbreviations = {\n",
    "      'RPG': 'Role-Playing Game',\n",
    "      'SF': 'Science Fiction',\n",
    "      \"AFAIK\": \"As Far As I Know\",\n",
    "      \"AFK\": \"Away From Keyboard\",\n",
    "      \"ASAP\": \"As Soon As Possible\",\n",
    "      \"ATK\": \"At The Keyboard\",\n",
    "      \"ATM\": \"At The Moment\",\n",
    "      \"A3\": \"Anytime, Anywhere, Anyplace\",\n",
    "      \"BAK\": \"Back At Keyboard\",\n",
    "      \"BBL\": \"Be Back Later\",\n",
    "      \"BBS\": \"Be Back Soon\",\n",
    "      \"BFN\": \"Bye For Now\",\n",
    "      \"B4N\": \"Bye For Now\",\n",
    "      \"BRB\": \"Be Right Back\",\n",
    "      \"BRT\": \"Be Right There\",\n",
    "      \"BTW\": \"By The Way\",\n",
    "      \"B4\": \"Before\",\n",
    "      \"B4N\": \"Bye For Now\",\n",
    "      \"CU\": \"See You\",\n",
    "      \"CUL8R\": \"See You Later\",\n",
    "      \"CYA\": \"See You\",\n",
    "      \"FAQ\": \"Frequently Asked Questions\",\n",
    "      \"FC\": \"Fingers Crossed\",\n",
    "      \"FWIW\": \"For What It's Worth\",\n",
    "      \"FYI\": \"For Your Information\",\n",
    "      \"GAL\": \"Get A Life\",\n",
    "      \"GG\": \"Good Game\",\n",
    "      \"GN\": \"Good Night\",\n",
    "      \"GMTA\": \"Great Minds Think Alike\",\n",
    "      \"GR8\": \"Great!\",\n",
    "      \"G9\": \"Genius\",\n",
    "      \"IC\": \"I See\",\n",
    "      \"ICQ\": \"I Seek you (also a chat program)\",\n",
    "      \"ILU\": \"ILU: I Love You\",\n",
    "      \"IMHO\": \"In My Honest/Humble Opinion\",\n",
    "      \"IMO\": \"In My Opinion\",\n",
    "      \"IOW\": \"In Other Words\",\n",
    "      \"IRL\": \"In Real Life\",\n",
    "      \"KISS\": \"Keep It Simple, Stupid\",\n",
    "      \"LDR\": \"Long Distance Relationship\",\n",
    "      \"LMAO\": \"Laugh My A.. Off\",\n",
    "      \"LOL\": \"Laughing Out Loud\",\n",
    "      \"LTNS\": \"Long Time No See\",\n",
    "      \"L8R\": \"Later\",\n",
    "      \"MTE\": \"My Thoughts Exactly\",\n",
    "      \"M8\": \"Mate\",\n",
    "      \"NRN\": \"No Reply Necessary\",\n",
    "      \"OIC\": \"Oh I See\",\n",
    "      \"PITA\": \"Pain In The A..\",\n",
    "      \"PRT\": \"Party\",\n",
    "      \"PRW\": \"Parents Are Watching\",\n",
    "      \"QPSA?\": \"Que Pasa?\",\n",
    "      \"ROFL\": \"Rolling On The Floor Laughing\",\n",
    "      \"ROFLOL\": \"Rolling On The Floor Laughing Out Loud\",\n",
    "      \"ROTFLMAO\": \"Rolling On The Floor Laughing My A.. Off\",\n",
    "      \"SK8\": \"Skate\",\n",
    "      \"STATS\": \"Your sex and age\",\n",
    "      \"ASL\": \"Age, Sex, Location\",\n",
    "      \"THX\": \"Thank You\",\n",
    "      \"TTFN\": \"Ta-Ta For Now!\",\n",
    "      \"TTYL\": \"Talk To You Later\",\n",
    "      \"U\": \"You\",\n",
    "      \"U2\": \"You Too\",\n",
    "      \"U4E\": \"Yours For Ever\",\n",
    "      \"WB\": \"Welcome Back\",\n",
    "      \"WTF\": \"What The F...\",\n",
    "      \"WTG\": \"Way To Go!\",\n",
    "      \"WUF\": \"Where Are You From?\",\n",
    "      \"W8\": \"Wait...\",\n",
    "      \"7K\": \"Sick:-D Laugher\",\n",
    "      \"TFW\": \"That feeling when\",\n",
    "      \"MFW\": \"My face when\",\n",
    "      \"MRW\": \"My reaction when\",\n",
    "      \"IFYP\": \"I feel your pain\",\n",
    "      \"TNTL\": \"Trying not to laugh\",\n",
    "      \"JK\": \"Just kidding\",\n",
    "      \"IDC\": \"I don't care\",\n",
    "      \"ILY\": \"I love you\",\n",
    "      \"IMU\": \"I miss you\",\n",
    "      \"ADIH\": \"Another day in hell\",\n",
    "      \"ZZZ\": \"Sleeping, bored, tired\",\n",
    "      \"WYWH\": \"Wish you were here\",\n",
    "      \"TIME\": \"Tears in my eyes\",\n",
    "      \"BAE\": \"Before anyone else\",\n",
    "      \"FIMH\": \"Forever in my heart\",\n",
    "      \"BSAAW\": \"Big smile and a wink\",\n",
    "      \"BWL\": \"Bursting with laughter\",\n",
    "      \"BFF\": \"Best friends forever\",\n",
    "      \"CSL\": \"Can't stop laughing\",\n",
    "      'TVS': 'television',\n",
    "      'TV': 'television',\n",
    "      # Anime\n",
    "      'OVA': 'Original Video Animation',\n",
    "      'OP': 'Opening (Theme Song)',\n",
    "      'ED': 'Ending (Theme Song)',\n",
    "      'AMV': 'Anime Music Video',\n",
    "      'CG': 'Computer Graphics',\n",
    "      'MC': 'Main Character',\n",
    "      'OTP': 'One True Pairing',\n",
    "      'PV': 'Promotional Video',\n",
    "      'BD': 'Blu-ray Disc',\n",
    "      'LN': 'Light Novel',\n",
    "      # Boardgames\n",
    "      'BGG': 'BoardGameGeek',\n",
    "      'TCG': 'Trading Card Game',\n",
    "      'CCG': 'Collectible Card Game',\n",
    "      'LFG': 'Looking For Group',\n",
    "      'GMT': 'Greenwich Mean Time',\n",
    "      'AP': 'Analysis Paralysis',\n",
    "      'RPG': 'Role-Playing Game',\n",
    "      'GM': 'Game Master',\n",
    "      'XP': 'Experience Points',\n",
    "      'VP': 'Victory Points',\n",
    "      'AOE': 'Area of Effect',\n",
    "      # Gaming\n",
    "      'FPS': 'First-Person Shooter',\n",
    "      'MMORPG': 'Massively Multiplayer Online Role-Playing Game',\n",
    "      'DLC': 'Downloadable Content',\n",
    "      'NPC': 'Non-Player Character',\n",
    "      'PvP': 'Player versus Player',\n",
    "      'PvE': 'Player versus Environment',\n",
    "      'AFK': 'Away From Keyboard',\n",
    "      'RTS': 'Real-Time Strategy',\n",
    "      'HUD': 'Heads-Up Display',\n",
    "      'RNG': 'Random Number Generator',\n",
    "      'DD': 'Dungeons Dragons',\n",
    "      'DMG':'Dungeon Master Guide',\n",
    "      'NPCS':'Non Player Characters',\n",
    "      'NPC':'Non Player Characters',\n",
    "      'E': 'edition',\n",
    "      '1E': '1th edition',\n",
    "      '2E': '2th edition',\n",
    "      '3E': '3th edition',\n",
    "      '4E': '4th edition',\n",
    "      '5E': '5th edition',\n",
    "      '6E': '6th edition',\n",
    "      '7E': '7th edition',\n",
    "      '8E': '8th edition',\n",
    "      'OOC':'out of character',\n",
    "      'IRCD':'Internet Relay Chat daemon',\n",
    "      'IRC':'Internet Relay Chat',\n",
    "      'WRM':'Warrior Rogue Mage',\n",
    "      'MMORPGS': 'massively multiplayer online role-playing game',\n",
    "      'MMORPG': 'massively multiplayer online role-playing game',\n",
    "      'FFG':'Fantasy Flight Games',\n",
    "      'DDI': 'Data Design Interactive',\n",
    "      'BBEG': 'Big Bad Evil End Guy Gal',\n",
    "      'MM1':'Murder Mystery part 1',\n",
    "      'MM2':'Murder Mystery part 2',\n",
    "      'MM3':'Murder Mystery part 3',\n",
    "      # Movies\n",
    "      'CGI': 'Computer-Generated Imagery',\n",
    "      'VFX': 'Visual Effects',\n",
    "      'SFX': 'Special Effects',\n",
    "      'BTS': 'Behind The Scenes',\n",
    "      'POV': 'Point Of View',\n",
    "      '3D': 'Three-Dimensional',\n",
    "      'IMAX': 'Image Maximum',\n",
    "      'DVD': 'Digital Versatile Disc',\n",
    "      'OS': 'Original Soundtrack',\n",
    "      'ADR': 'Automated Dialogue Replacement',\n",
    "      'II': 'part ii',\n",
    "      'III': 'part iii',\n",
    "      'SW': 'Star Wars',\n",
    "      # Photography\n",
    "      'DSLR': 'Digital Single-Lens Reflex',\n",
    "      'HDR': 'High Dynamic Range',\n",
    "      'ISO': 'International Organization for Standardization',\n",
    "      'RAW': 'Raw Image Format',\n",
    "      'DOF': 'Depth Of Field',\n",
    "      'AF': 'Autofocus',\n",
    "      'WB': 'White Balance',\n",
    "      'FPS': 'Frames Per Second',\n",
    "      'EV': 'Exposure Value',\n",
    "      'TTL': 'Through The Lens',\n",
    "      # RPG\n",
    "      'HP': 'Hit Points',\n",
    "      'XP': 'Experience Points',\n",
    "      'DM': 'Dungeon Master',\n",
    "      'NPC': 'Non-Player Character',\n",
    "      'PC': 'Player Character',\n",
    "      'AC': 'Armor Class',\n",
    "      'GM': 'Game Master',\n",
    "      'TPK': 'Total Party Kill',\n",
    "      'DC': 'Difficulty Class',\n",
    "\n",
    "      # Sci-Fi\n",
    "      'AI': 'Artificial Intelligence',\n",
    "      'UFO': 'Unidentified Flying Object',\n",
    "      'FTL': 'Faster Than Light',\n",
    "      'VR': 'Virtual Reality',\n",
    "      'AR': 'Augmented Reality',\n",
    "      'SF': 'Science Fiction',\n",
    "      'ET': 'Extraterrestrial',\n",
    "      'BEM': 'Bug-Eyed Monster',\n",
    "      'EMP': 'Electromagnetic Pulse',\n",
    "      'HCI': 'Human-Computer Interaction'\n",
    "      # Add more abbreviations specific to your dataset\n",
    "}\n"
   ]
  },
  {
   "cell_type": "code",
   "execution_count": null,
   "id": "5DEZb_kQZz7m",
   "metadata": {
    "colab": {
     "base_uri": "https://localhost:8080/",
     "height": 53
    },
    "id": "5DEZb_kQZz7m",
    "outputId": "6050333f-c1f3-4911-9e61-8650fb994300"
   },
   "outputs": [
    {
     "data": {
      "application/vnd.google.colaboratory.intrinsic+json": {
       "type": "string"
      },
      "text/plain": [
       "'Multiclassing no longer takes an XP hit, and your favored class gives you one of two bonuses at every level: +1 hp +1 skill point Advanced Players Guide add other options for specific Race/Class combos'"
      ]
     },
     "execution_count": 80,
     "metadata": {},
     "output_type": "execute_result"
    }
   ],
   "source": [
    "docs['text'][0]"
   ]
  },
  {
   "cell_type": "code",
   "execution_count": null,
   "id": "3cbce9dd-0f09-42f9-87ee-ff1701f88711",
   "metadata": {
    "colab": {
     "base_uri": "https://localhost:8080/",
     "height": 53
    },
    "id": "3cbce9dd-0f09-42f9-87ee-ff1701f88711",
    "outputId": "0fbcf980-7150-4efc-e727-c7936c4c06e8"
   },
   "outputs": [
    {
     "data": {
      "application/vnd.google.colaboratory.intrinsic+json": {
       "type": "string"
      },
      "text/plain": [
       "'Multiclassing no longer takes an Experience Points hit, and your favored class gives you one of two bonuses at every level: +1 Hit Points +1 skill point Advanced Players Guide add other options for specific Race/Class combos'"
      ]
     },
     "execution_count": 79,
     "metadata": {},
     "output_type": "execute_result"
    }
   ],
   "source": [
    "# Function to Replace Abbreviations\n",
    "def replace_abbreviation(tokens):\n",
    "    new_text = []\n",
    "    for i in tokens:\n",
    "        if i.upper() in abbreviations:\n",
    "            new_text.append(abbreviations[i.upper()])\n",
    "        else:\n",
    "            new_text.append(i)\n",
    "    return new_text\n",
    "\n",
    "tokens = replace_abbreviation(docs['text'][0].split())\n",
    "' '.join(tokens)"
   ]
  },
  {
   "cell_type": "markdown",
   "id": "03c1e632-a750-4aaa-978d-7411da2eab00",
   "metadata": {
    "id": "03c1e632-a750-4aaa-978d-7411da2eab00"
   },
   "source": [
    "### To Lowercase"
   ]
  },
  {
   "cell_type": "code",
   "execution_count": null,
   "id": "a0e1fcd5-6e45-4480-848c-8c730c65b755",
   "metadata": {
    "colab": {
     "base_uri": "https://localhost:8080/",
     "height": 53
    },
    "id": "a0e1fcd5-6e45-4480-848c-8c730c65b755",
    "outputId": "4738495d-cdb2-453e-86f2-b1540ae63f3d"
   },
   "outputs": [
    {
     "data": {
      "application/vnd.google.colaboratory.intrinsic+json": {
       "type": "string"
      },
      "text/plain": [
       "'multiclassing no longer takes an xp hit, and your favored class gives you one of two bonuses at every level: +1 hp +1 skill point advanced players guide add other options for specific race/class combos'"
      ]
     },
     "execution_count": 81,
     "metadata": {},
     "output_type": "execute_result"
    }
   ],
   "source": [
    "def toLowercase(text):\n",
    "    return text.lower()\n",
    "text = toLowercase(docs['text'][0])\n",
    "text"
   ]
  },
  {
   "cell_type": "markdown",
   "id": "2f97b0f3-fb69-4bbb-9f47-7c42708c73e9",
   "metadata": {
    "id": "2f97b0f3-fb69-4bbb-9f47-7c42708c73e9"
   },
   "source": [
    "### Check emojis"
   ]
  },
  {
   "cell_type": "code",
   "execution_count": null,
   "id": "7c89889d-a403-477d-aeba-2078a7a32735",
   "metadata": {
    "id": "7c89889d-a403-477d-aeba-2078a7a32735",
    "outputId": "2c952d0c-fb9c-49ee-be82-d9a1b32bcc39"
   },
   "outputs": [
    {
     "name": "stdout",
     "output_type": "stream",
     "text": [
      "No Emojies found\n"
     ]
    }
   ],
   "source": [
    "# Function to detect emojis\n",
    "def contains_emoji(text):\n",
    "    emoji_pattern = re.compile(\n",
    "        \"[\"\n",
    "        \"\\U0001F600-\\U0001F64F\"  # emoticons\n",
    "        \"\\U0001F300-\\U0001F5FF\"  # symbols & pictographs\n",
    "        \"\\U0001F680-\\U0001F6FF\"  # transport & map symbols\n",
    "        \"\\U0001F1E0-\\U0001F1FF\"  # flags (iOS)\n",
    "        \"\\U00002702-\\U000027B0\"  # other miscellaneous symbols\n",
    "        \"\\U000024C2-\\U0001F251\"\n",
    "        \"]+\", flags=re.UNICODE)\n",
    "    return bool(emoji_pattern.search(text))\n",
    "\n",
    "# Function to check if any text in the DataFrame contains an emoji\n",
    "def any_text_contains_emoji(docs):\n",
    "    for text in docs['text']:\n",
    "        if contains_emoji(text):\n",
    "            return True\n",
    "    return False\n",
    "\n",
    "# Call the function and print the result\n",
    "result = any_text_contains_emoji(docs)\n",
    "print(\"There is Emojies found\" if result else \"No Emojies found\")"
   ]
  },
  {
   "cell_type": "code",
   "execution_count": null,
   "id": "61205158-262e-4edc-86d1-49d4c1c17366",
   "metadata": {
    "id": "61205158-262e-4edc-86d1-49d4c1c17366"
   },
   "outputs": [],
   "source": [
    "# check for nullable value and remove it\n",
    "docs.isna().sum()\n",
    "docs = docs.dropna()"
   ]
  },
  {
   "cell_type": "markdown",
   "id": "wtn9rumSXjsh",
   "metadata": {
    "id": "wtn9rumSXjsh"
   },
   "source": [
    "### Remove words that repeat more than twice"
   ]
  },
  {
   "cell_type": "code",
   "execution_count": null,
   "id": "6HREaIRsZwBF",
   "metadata": {
    "colab": {
     "base_uri": "https://localhost:8080/",
     "height": 140
    },
    "id": "6HREaIRsZwBF",
    "outputId": "6f820f43-d31d-434a-ba7b-f3ef6db377dc"
   },
   "outputs": [
    {
     "data": {
      "application/vnd.google.colaboratory.intrinsic+json": {
       "type": "string"
      },
      "text/plain": [
       "'I\\'d start out waaaaay before the actual content of your adventure. To whit: Be prepared, whatever that means (for me it means a full water bottle and a good night\\'s sleep). Show up a little early. Make sure everybody knows everybody. Shake hands. Be clean and friendly. Project excitement. Assume people will need a pencil, paper and dice Tell people what you want and ask what they want. Make sure everybody is on the same page concerning what\\'s appropriate and what isn\\'t, both in game and out. Start on time. Enjoy yourself. Schedule in a break. End on time. Thank everyone for playing and ask for feedback. This stuff will ensure a happier experience all around, regardless of other factors. With that out of the way, you need to be clear about your own intentions. You are playtesting, right? If you are, I hope your con write-up said so. In any case, be sure to say \"This is a playtest. I cannot promise that it will be fun. It may crash and burn. If that\\'s a problem, it\\'s totally OK for you to go do something else now.\" A lot of people come to cons to play and will be really disappointed by wonky playtest sessions (these people are normal). Others will seek them out and be delighted (these people are your best friends). What you can reasonably fit in a four hour convention slot is going to vary widely depending on the nature of your game. Since by definition no one will know the rules, less is more. You can benchmark based on other games with a similar level of detail and complexity, perhaps, padding your estimates a little based on a lack of familiarity by your players. I always make pre-generated characters who are sharply pointed at each other - he\\'s in love with her, she hates this other PC, he\\'s that dude\\'s brother but it\\'s a secret - and tie that into the adventure\\'s situation. If you do this right your work is basically done! I like to start out in media res with some sort of action right out of the gate, then dial it back and explain more of the system as necessary.'"
      ]
     },
     "execution_count": 28,
     "metadata": {},
     "output_type": "execute_result"
    }
   ],
   "source": [
    "text = docs['text'].iloc[3506]\n",
    "docs['text'].iloc[3506]"
   ]
  },
  {
   "cell_type": "code",
   "execution_count": null,
   "id": "urO9SsLTXjGK",
   "metadata": {
    "id": "urO9SsLTXjGK"
   },
   "outputs": [],
   "source": [
    "def fix_repeated_chars(text):\n",
    "    # Define a regular expression pattern to match repeated characters\n",
    "    pattern = r'(\\w)(\\1{2,})'\n",
    "    # Use re.sub to replace the repeated characters with a single occurrence\n",
    "    fixed_text = re.sub(pattern, r'\\1', text)\n",
    "    return fixed_text\n",
    "\n",
    "# Apply the cleaning function to the 'text' column\n",
    "text = fix_repeated_chars(text)"
   ]
  },
  {
   "cell_type": "code",
   "execution_count": null,
   "id": "Lpx1yAdFZ2LV",
   "metadata": {
    "colab": {
     "base_uri": "https://localhost:8080/",
     "height": 140
    },
    "id": "Lpx1yAdFZ2LV",
    "outputId": "f7bab2e7-874e-4c77-deff-c7ac0508d5d6"
   },
   "outputs": [
    {
     "data": {
      "application/vnd.google.colaboratory.intrinsic+json": {
       "type": "string"
      },
      "text/plain": [
       "'I\\'d start out way before the actual content of your adventure. To whit: Be prepared, whatever that means (for me it means a full water bottle and a good night\\'s sleep). Show up a little early. Make sure everybody knows everybody. Shake hands. Be clean and friendly. Project excitement. Assume people will need a pencil, paper and dice Tell people what you want and ask what they want. Make sure everybody is on the same page concerning what\\'s appropriate and what isn\\'t, both in game and out. Start on time. Enjoy yourself. Schedule in a break. End on time. Thank everyone for playing and ask for feedback. This stuff will ensure a happier experience all around, regardless of other factors. With that out of the way, you need to be clear about your own intentions. You are playtesting, right? If you are, I hope your con write-up said so. In any case, be sure to say \"This is a playtest. I cannot promise that it will be fun. It may crash and burn. If that\\'s a problem, it\\'s totally OK for you to go do something else now.\" A lot of people come to cons to play and will be really disappointed by wonky playtest sessions (these people are normal). Others will seek them out and be delighted (these people are your best friends). What you can reasonably fit in a four hour convention slot is going to vary widely depending on the nature of your game. Since by definition no one will know the rules, less is more. You can benchmark based on other games with a similar level of detail and complexity, perhaps, padding your estimates a little based on a lack of familiarity by your players. I always make pre-generated characters who are sharply pointed at each other - he\\'s in love with her, she hates this other PC, he\\'s that dude\\'s brother but it\\'s a secret - and tie that into the adventure\\'s situation. If you do this right your work is basically done! I like to start out in media res with some sort of action right out of the gate, then dial it back and explain more of the system as necessary.'"
      ]
     },
     "execution_count": 30,
     "metadata": {},
     "output_type": "execute_result"
    }
   ],
   "source": [
    "text = fix_repeated_chars(text)\n",
    "text"
   ]
  },
  {
   "cell_type": "markdown",
   "id": "788305f0-4e78-42e1-9e74-29333458487d",
   "metadata": {
    "id": "788305f0-4e78-42e1-9e74-29333458487d"
   },
   "source": [
    "## Tokenization - Remove Stopwords - Spell Checking - Stemming"
   ]
  },
  {
   "cell_type": "code",
   "execution_count": null,
   "id": "25ade986-7677-4876-8665-283768f4b513",
   "metadata": {
    "id": "25ade986-7677-4876-8665-283768f4b513"
   },
   "outputs": [],
   "source": [
    "custom_words = {\n",
    "'isnt', 'arent', 'im', 'id', 'ie', 'eg', 'ive', 'whatev', 'wed', 'somehow',\n",
    "'going', 'get', 'yes', 'no', 'couldnt', 'didnt', 'dont', 'doesnt', 'would',\n",
    "'could', 'should', 'cant', 'wont', 'hasnt', 'hadnt', 'havent', 'mightnt',\n",
    "'mustnt', 'neednt', 'shall', 'shant', 'werent', 'wouldnt', 'ought', 'oughtnt',\n",
    "'aint', 'gonna', 'wanna', 'whatcha', 'yall', 'ya', 'gotta', 'coulda', 'shoulda',\n",
    "'woulda', 'lotta', 'lemme', 'kinda', 'sorta', 'hafta', 'dunno', 'outta', 'alot',\n",
    "'yup', 'nope', 'nah', 'yeah', 'uh', 'um', 'uhm', 'okay', 'ok', 'yep', 'hmm',\n",
    "'mmm', 'oh', 'hey', 'hi', 'hello', 'bye', 'goodbye', 'please', 'thanks', 'thank',\n",
    "'welcome', 'etc', 'alright', 'okay', 'ok', 'gonna', 'gotta', 'wanna', 'kinda',\n",
    "'sorta', 'lemme', 'coulda', 'shoulda', 'woulda', 'whereby', 'many', 'much', 'want',\n",
    "'always'\n",
    "}\n",
    "stop_words = set(stopwords.words('english')).union(custom_words)\n",
    "lemmatizer = WordNetLemmatizer()\n",
    "stemmer = PorterStemmer()\n",
    "stop_words = set(stopwords.words('english'))"
   ]
  },
  {
   "cell_type": "code",
   "execution_count": null,
   "id": "4pB8837g5L4h",
   "metadata": {
    "id": "4pB8837g5L4h"
   },
   "outputs": [],
   "source": [
    "# Tokenization\n",
    "def tokenize_text(text):\n",
    "  return word_tokenize(text)"
   ]
  },
  {
   "cell_type": "code",
   "execution_count": null,
   "id": "0EpnCZR66PBI",
   "metadata": {
    "id": "0EpnCZR66PBI"
   },
   "outputs": [],
   "source": [
    "# Remove Stopwords\n",
    "def remove_stopwords(tokens):\n",
    "    return [word for word in tokens if word not in stop_words]"
   ]
  },
  {
   "cell_type": "code",
   "execution_count": null,
   "id": "PJYGzry36eol",
   "metadata": {
    "id": "PJYGzry36eol"
   },
   "outputs": [],
   "source": [
    "# Stemming\n",
    "def stem_tokens(tokens):\n",
    "    return [stemmer.stem(token) for token in tokens]\n"
   ]
  },
  {
   "cell_type": "code",
   "execution_count": null,
   "id": "T1Gu685OcGDC",
   "metadata": {
    "colab": {
     "base_uri": "https://localhost:8080/",
     "height": 53
    },
    "id": "T1Gu685OcGDC",
    "outputId": "86ac5567-1c3e-42ab-ea3e-65d74e5c8f68"
   },
   "outputs": [
    {
     "data": {
      "application/vnd.google.colaboratory.intrinsic+json": {
       "type": "string"
      },
      "text/plain": [
       "'multiclass longer take experience point hit favor class give one two bonus everi level 1 hit point 1 skill point advanc player guid add option specif race class combo'"
      ]
     },
     "execution_count": 19,
     "metadata": {},
     "output_type": "execute_result"
    }
   ],
   "source": [
    "text = DataPreProcessing.process_text(docs['text'].iloc[0])\n",
    "text"
   ]
  },
  {
   "cell_type": "markdown",
   "id": "McxZQNRWuF6z",
   "metadata": {
    "id": "McxZQNRWuF6z"
   },
   "source": [
    "# Data Representation - Indexing"
   ]
  },
  {
   "cell_type": "code",
   "execution_count": null,
   "id": "hVGvYt2O4E6i",
   "metadata": {
    "id": "hVGvYt2O4E6i"
   },
   "outputs": [],
   "source": [
    "class DataPreProcessing:\n",
    "    custom_words = {\n",
    "    'isnt', 'arent', 'im', 'id', 'ie', 'eg', 'ive', 'whatev', 'wed', 'somehow',\n",
    "    'going', 'get', 'yes', 'no', 'couldnt', 'didnt', 'dont', 'doesnt', 'would',\n",
    "    'could', 'should', 'cant', 'wont', 'hasnt', 'hadnt', 'havent', 'mightnt',\n",
    "    'mustnt', 'neednt', 'shall', 'shant', 'werent', 'wouldnt', 'ought', 'oughtnt',\n",
    "    'aint', 'gonna', 'wanna', 'whatcha', 'yall', 'ya', 'gotta', 'coulda', 'shoulda',\n",
    "    'woulda', 'lotta', 'lemme', 'kinda', 'sorta', 'hafta', 'dunno', 'outta', 'alot',\n",
    "    'yup', 'nope', 'nah', 'yeah', 'uh', 'um', 'uhm', 'okay', 'ok', 'yep', 'hmm',\n",
    "    'mmm', 'oh', 'hey', 'hi', 'hello', 'bye', 'goodbye', 'please', 'thanks', 'thank',\n",
    "    'welcome', 'etc', 'alright', 'okay', 'ok', 'gonna', 'gotta', 'wanna', 'kinda',\n",
    "    'sorta', 'lemme', 'coulda', 'shoulda', 'woulda', 'whereby', 'many', 'much', 'want',\n",
    "    'always'\n",
    "    }\n",
    "    stop_words = set(stopwords.words('english')).union(custom_words)\n",
    "    lemmatizer = WordNetLemmatizer()\n",
    "    stemmer = PorterStemmer()\n",
    "    # Abbreviation dictionary\n",
    "    abbreviations = {\n",
    "        'RPG': 'Role-Playing Game',\n",
    "        'SF': 'Science Fiction',\n",
    "        \"AFAIK\": \"As Far As I Know\",\n",
    "        \"AFK\": \"Away From Keyboard\",\n",
    "        \"ASAP\": \"As Soon As Possible\",\n",
    "        \"ATK\": \"At The Keyboard\",\n",
    "        \"ATM\": \"At The Moment\",\n",
    "        \"A3\": \"Anytime, Anywhere, Anyplace\",\n",
    "        \"BAK\": \"Back At Keyboard\",\n",
    "        \"BBL\": \"Be Back Later\",\n",
    "        \"BBS\": \"Be Back Soon\",\n",
    "        \"BFN\": \"Bye For Now\",\n",
    "        \"B4N\": \"Bye For Now\",\n",
    "        \"BRB\": \"Be Right Back\",\n",
    "        \"BRT\": \"Be Right There\",\n",
    "        \"BTW\": \"By The Way\",\n",
    "        \"B4\": \"Before\",\n",
    "        \"B4N\": \"Bye For Now\",\n",
    "        \"CU\": \"See You\",\n",
    "        \"CUL8R\": \"See You Later\",\n",
    "        \"CYA\": \"See You\",\n",
    "        \"FAQ\": \"Frequently Asked Questions\",\n",
    "        \"FC\": \"Fingers Crossed\",\n",
    "        \"FWIW\": \"For What It's Worth\",\n",
    "        \"FYI\": \"For Your Information\",\n",
    "        \"GAL\": \"Get A Life\",\n",
    "        \"GG\": \"Good Game\",\n",
    "        \"GN\": \"Good Night\",\n",
    "        \"GMTA\": \"Great Minds Think Alike\",\n",
    "        \"GR8\": \"Great!\",\n",
    "        \"G9\": \"Genius\",\n",
    "        \"IC\": \"I See\",\n",
    "        \"ICQ\": \"I Seek you (also a chat program)\",\n",
    "        \"ILU\": \"ILU: I Love You\",\n",
    "        \"IMHO\": \"In My Honest/Humble Opinion\",\n",
    "        \"IMO\": \"In My Opinion\",\n",
    "        \"IOW\": \"In Other Words\",\n",
    "        \"IRL\": \"In Real Life\",\n",
    "        \"KISS\": \"Keep It Simple, Stupid\",\n",
    "        \"LDR\": \"Long Distance Relationship\",\n",
    "        \"LMAO\": \"Laugh My A.. Off\",\n",
    "        \"LOL\": \"Laughing Out Loud\",\n",
    "        \"LTNS\": \"Long Time No See\",\n",
    "        \"L8R\": \"Later\",\n",
    "        \"MTE\": \"My Thoughts Exactly\",\n",
    "        \"M8\": \"Mate\",\n",
    "        \"NRN\": \"No Reply Necessary\",\n",
    "        \"OIC\": \"Oh I See\",\n",
    "        \"PITA\": \"Pain In The A..\",\n",
    "        \"PRT\": \"Party\",\n",
    "        \"PRW\": \"Parents Are Watching\",\n",
    "        \"QPSA?\": \"Que Pasa?\",\n",
    "        \"ROFL\": \"Rolling On The Floor Laughing\",\n",
    "        \"ROFLOL\": \"Rolling On The Floor Laughing Out Loud\",\n",
    "        \"ROTFLMAO\": \"Rolling On The Floor Laughing My A.. Off\",\n",
    "        \"SK8\": \"Skate\",\n",
    "        \"STATS\": \"Your sex and age\",\n",
    "        \"ASL\": \"Age, Sex, Location\",\n",
    "        \"THX\": \"Thank You\",\n",
    "        \"TTFN\": \"Ta-Ta For Now!\",\n",
    "        \"TTYL\": \"Talk To You Later\",\n",
    "        \"U\": \"You\",\n",
    "        \"U2\": \"You Too\",\n",
    "        \"U4E\": \"Yours For Ever\",\n",
    "        \"WB\": \"Welcome Back\",\n",
    "        \"WTF\": \"What The F...\",\n",
    "        \"WTG\": \"Way To Go!\",\n",
    "        \"WUF\": \"Where Are You From?\",\n",
    "        \"W8\": \"Wait...\",\n",
    "        \"7K\": \"Sick:-D Laugher\",\n",
    "        \"TFW\": \"That feeling when\",\n",
    "        \"MFW\": \"My face when\",\n",
    "        \"MRW\": \"My reaction when\",\n",
    "        \"IFYP\": \"I feel your pain\",\n",
    "        \"TNTL\": \"Trying not to laugh\",\n",
    "        \"JK\": \"Just kidding\",\n",
    "        \"IDC\": \"I don't care\",\n",
    "        \"ILY\": \"I love you\",\n",
    "        \"IMU\": \"I miss you\",\n",
    "        \"ADIH\": \"Another day in hell\",\n",
    "        \"ZZZ\": \"Sleeping, bored, tired\",\n",
    "        \"WYWH\": \"Wish you were here\",\n",
    "        \"TIME\": \"Tears in my eyes\",\n",
    "        \"BAE\": \"Before anyone else\",\n",
    "        \"FIMH\": \"Forever in my heart\",\n",
    "        \"BSAAW\": \"Big smile and a wink\",\n",
    "        \"BWL\": \"Bursting with laughter\",\n",
    "        \"BFF\": \"Best friends forever\",\n",
    "        \"CSL\": \"Can't stop laughing\",\n",
    "        'TVS': 'television',\n",
    "        'TV': 'television',\n",
    "        # Anime\n",
    "        'OVA': 'Original Video Animation',\n",
    "        'OP': 'Opening (Theme Song)',\n",
    "        'ED': 'Ending (Theme Song)',\n",
    "        'AMV': 'Anime Music Video',\n",
    "        'CG': 'Computer Graphics',\n",
    "        'MC': 'Main Character',\n",
    "        'OTP': 'One True Pairing',\n",
    "        'PV': 'Promotional Video',\n",
    "        'BD': 'Blu-ray Disc',\n",
    "        'LN': 'Light Novel',\n",
    "        # Boardgames\n",
    "        'BGG': 'BoardGameGeek',\n",
    "        'TCG': 'Trading Card Game',\n",
    "        'CCG': 'Collectible Card Game',\n",
    "        'LFG': 'Looking For Group',\n",
    "        'GMT': 'Greenwich Mean Time',\n",
    "        'AP': 'Analysis Paralysis',\n",
    "        'RPG': 'Role-Playing Game',\n",
    "        'GM': 'Game Master',\n",
    "        'XP': 'Experience Points',\n",
    "        'VP': 'Victory Points',\n",
    "        'AOE': 'Area of Effect',\n",
    "        # Gaming\n",
    "        'FPS': 'First-Person Shooter',\n",
    "        'MMORPG': 'Massively Multiplayer Online Role-Playing Game',\n",
    "        'DLC': 'Downloadable Content',\n",
    "        'NPC': 'Non-Player Character',\n",
    "        'PvP': 'Player versus Player',\n",
    "        'PvE': 'Player versus Environment',\n",
    "        'AFK': 'Away From Keyboard',\n",
    "        'RTS': 'Real-Time Strategy',\n",
    "        'HUD': 'Heads-Up Display',\n",
    "        'RNG': 'Random Number Generator',\n",
    "        'DD': 'Dungeons Dragons',\n",
    "        'DMG':'Dungeon Master Guide',\n",
    "        'NPCS':'Non Player Characters',\n",
    "        'NPC':'Non Player Characters',\n",
    "        'E': 'edition',\n",
    "        '1E': '1th edition',\n",
    "        '2E': '2th edition',\n",
    "        '3E': '3th edition',\n",
    "        '4E': '4th edition',\n",
    "        '5E': '5th edition',\n",
    "        '6E': '6th edition',\n",
    "        '7E': '7th edition',\n",
    "        '8E': '8th edition',\n",
    "        'OOC':'out of character',\n",
    "        'IRCD':'Internet Relay Chat daemon',\n",
    "        'IRC':'Internet Relay Chat',\n",
    "        'WRM':'Warrior Rogue Mage',\n",
    "        'MMORPGS': 'massively multiplayer online role-playing game',\n",
    "        'MMORPG': 'massively multiplayer online role-playing game',\n",
    "        'FFG':'Fantasy Flight Games',\n",
    "        'DDI': 'Data Design Interactive',\n",
    "        'BBEG': 'Big Bad Evil End Guy Gal',\n",
    "        'MM1':'Murder Mystery part 1',\n",
    "        'MM2':'Murder Mystery part 2',\n",
    "        'MM3':'Murder Mystery part 3',\n",
    "        # Movies\n",
    "        'CGI': 'Computer-Generated Imagery',\n",
    "        'VFX': 'Visual Effects',\n",
    "        'SFX': 'Special Effects',\n",
    "        'BTS': 'Behind The Scenes',\n",
    "        'POV': 'Point Of View',\n",
    "        '3D': 'Three-Dimensional',\n",
    "        'IMAX': 'Image Maximum',\n",
    "        'DVD': 'Digital Versatile Disc',\n",
    "        'OS': 'Original Soundtrack',\n",
    "        'ADR': 'Automated Dialogue Replacement',\n",
    "        'I': 'part i',\n",
    "        'II': 'part ii',\n",
    "        'III': 'part iii',\n",
    "        'SW': 'Star Wars',\n",
    "        # Photography\n",
    "        'DSLR': 'Digital Single-Lens Reflex',\n",
    "        'HDR': 'High Dynamic Range',\n",
    "        'ISO': 'International Organization for Standardization',\n",
    "        'RAW': 'Raw Image Format',\n",
    "        'DOF': 'Depth Of Field',\n",
    "        'AF': 'Autofocus',\n",
    "        'WB': 'White Balance',\n",
    "        'FPS': 'Frames Per Second',\n",
    "        'EV': 'Exposure Value',\n",
    "        'TTL': 'Through The Lens',\n",
    "        # RPG\n",
    "        'HP': 'Hit Points',\n",
    "        'XP': 'Experience Points',\n",
    "        'DM': 'Dungeon Master',\n",
    "        'NPC': 'Non-Player Character',\n",
    "        'PC': 'Player Character',\n",
    "        'AC': 'Armor Class',\n",
    "        'GM': 'Game Master',\n",
    "        'TPK': 'Total Party Kill',\n",
    "        'DC': 'Difficulty Class',\n",
    "\n",
    "        # Sci-Fi\n",
    "        'AI': 'Artificial Intelligence',\n",
    "        'UFO': 'Unidentified Flying Object',\n",
    "        'FTL': 'Faster Than Light',\n",
    "        'VR': 'Virtual Reality',\n",
    "        'AR': 'Augmented Reality',\n",
    "        'SF': 'Science Fiction',\n",
    "        'ET': 'Extraterrestrial',\n",
    "        'BEM': 'Bug-Eyed Monster',\n",
    "        'EMP': 'Electromagnetic Pulse',\n",
    "        'HCI': 'Human-Computer Interaction'\n",
    "        # Add more abbreviations specific to your dataset\n",
    "    }\n",
    "\n",
    "    @staticmethod\n",
    "    def remove_urls(text):\n",
    "        return re.sub(r'http\\S+|www.\\S+', '', text)\n",
    "\n",
    "    @staticmethod\n",
    "    def remove_non_english_chars(text):\n",
    "        allowed_chars = string.ascii_letters + string.digits + string.punctuation + \" \"\n",
    "        filtered_text = ''.join(char if char in allowed_chars else '' for char in text)\n",
    "        return filtered_text\n",
    "\n",
    "    @staticmethod\n",
    "    def remove_punctuation(tokens):\n",
    "        translator = str.maketrans({char: ' ' if char != '&' else '' for char in string.punctuation})\n",
    "        # Process each token individually\n",
    "        cleaned_tokens = []\n",
    "        for token in tokens:\n",
    "            no_punct = token.translate(translator)\n",
    "            clean_token = re.sub(r'\\s+', ' ', no_punct).strip()\n",
    "            if clean_token:  # Avoid adding empty strings\n",
    "                cleaned_tokens.append(clean_token)\n",
    "        return cleaned_tokens\n",
    "\n",
    "    @staticmethod\n",
    "    def replace_abbreviation(tokens):\n",
    "        new_text = []\n",
    "        for i in tokens:\n",
    "            if i.upper() in DataPreProcessing.abbreviations:\n",
    "                new_text.append(DataPreProcessing.abbreviations[i.upper()])\n",
    "            else:\n",
    "                new_text.append(i)\n",
    "        return new_text\n",
    "\n",
    "    @staticmethod\n",
    "    def toLowercase(text):\n",
    "        return text.lower()\n",
    "\n",
    "    @staticmethod\n",
    "    def fix_repeated_chars(text):\n",
    "        pattern = r'(\\w)(\\1{2,})'\n",
    "        fixed_text = re.sub(pattern, r'\\1\\1', text)\n",
    "        return fixed_text\n",
    "\n",
    "    @staticmethod\n",
    "    def remove_time(text):\n",
    "        time_pattern = r'\\b\\d{1,2}:\\d{2}(?::\\d{2})?\\b'\n",
    "        text_without_time = re.sub(time_pattern, '', text)\n",
    "        clean_text = re.sub(r'\\s+', ' ', text_without_time).strip()\n",
    "        return clean_text\n",
    "\n",
    "    @staticmethod\n",
    "    def remove_null_values(docs):\n",
    "        return docs.dropna()\n",
    "\n",
    "    @staticmethod\n",
    "    def tokenize_text(text):\n",
    "        return word_tokenize(text)\n",
    "\n",
    "    @staticmethod\n",
    "    def remove_stopwords(tokens):\n",
    "        return [word for word in tokens if word not in DataPreProcessing.stop_words]\n",
    "\n",
    "    @staticmethod\n",
    "    def remove_duplicated_chars(tokens):\n",
    "        def has_duplicated_chars(word):\n",
    "            return len(set(word)) == 1\n",
    "\n",
    "        filtered_words = [word for word in tokens if len(word) != 2 and not has_duplicated_chars(word)]\n",
    "        return filtered_words\n",
    "\n",
    "    @staticmethod\n",
    "    def remove_words_start_with_duplicate_chars(text):\n",
    "        # Define a regular expression pattern to match words starting with duplicate alphabetical characters\n",
    "        pattern = r'\\b([a-zA-Z])\\1\\w*\\b'\n",
    "        # Use re.sub to replace matched words with an empty string\n",
    "        result = re.sub(pattern, '', text)\n",
    "        return result\n",
    "\n",
    "    @staticmethod\n",
    "    def get_wordnet_pos(treebank_tag):\n",
    "        if treebank_tag.startswith('J'):\n",
    "            return wordnet.ADJ\n",
    "        elif treebank_tag.startswith('V'):\n",
    "            return wordnet.VERB\n",
    "        elif treebank_tag.startswith('N'):\n",
    "            return wordnet.NOUN\n",
    "        elif treebank_tag.startswith('R'):\n",
    "            return wordnet.ADV\n",
    "        else:\n",
    "            return wordnet.NOUN\n",
    "\n",
    "    @staticmethod\n",
    "    def lemmatize_tokens(tokens):\n",
    "        pos_tagged_tokens = pos_tag(tokens)\n",
    "        lemmatized_tokens = [\n",
    "            DataPreProcessing.lemmatizer.lemmatize(token, DataPreProcessing.get_wordnet_pos(pos_tag))\n",
    "            for token, pos_tag in pos_tagged_tokens\n",
    "        ]\n",
    "        return lemmatized_tokens\n",
    "\n",
    "    @staticmethod\n",
    "    def stem_tokens(tokens):\n",
    "        return [DataPreProcessing.stemmer.stem(token) for token in tokens]\n",
    "\n",
    "    @staticmethod\n",
    "    def process_text(text):\n",
    "        text = DataPreProcessing.remove_urls(text)\n",
    "        text = DataPreProcessing.remove_non_english_chars(text)\n",
    "        text = DataPreProcessing.remove_time(text)\n",
    "        text = DataPreProcessing.fix_repeated_chars(text)\n",
    "        text = DataPreProcessing.toLowercase(text)\n",
    "        tokens = DataPreProcessing.tokenize_text(text)\n",
    "        tokens = DataPreProcessing.remove_punctuation(tokens)\n",
    "        tokens = DataPreProcessing.replace_abbreviation(tokens)\n",
    "        tokens = DataPreProcessing.remove_stopwords(tokens)\n",
    "        tokens = DataPreProcessing.stem_tokens(tokens)\n",
    "        return ' '.join(tokens)"
   ]
  },
  {
   "cell_type": "markdown",
   "id": "fcZmWoAHNv-T",
   "metadata": {
    "id": "fcZmWoAHNv-T"
   },
   "source": [
    "## Calculate tf-idf using Scikit Learn TfidfVectorizer\n",
    "\n"
   ]
  },
  {
   "cell_type": "code",
   "execution_count": null,
   "id": "n9dvv4O5K8Fe",
   "metadata": {
    "id": "n9dvv4O5K8Fe"
   },
   "outputs": [],
   "source": [
    "vectorizer = TfidfVectorizer(\n",
    "    preprocessor=DataPreProcessing.process_text,\n",
    "    max_features=25000\n",
    ")\n",
    "\n",
    "subset_docs = docs['text']\n",
    "tfidf_docs = vectorizer.fit_transform(subset_docs)\n",
    "\n",
    "sub_queries = queries['text']\n",
    "tfidf_queries = vectorizer.transform(sub_queries)"
   ]
  },
  {
   "cell_type": "code",
   "execution_count": null,
   "id": "lAZEoYN0PWhw",
   "metadata": {
    "colab": {
     "base_uri": "https://localhost:8080/"
    },
    "id": "lAZEoYN0PWhw",
    "outputId": "bee91377-a812-43c1-b25f-368f709dbdcb"
   },
   "outputs": [
    {
     "data": {
      "text/plain": [
       "array(['ancalagon', 'ancestor', 'ancestr', 'ancestri', 'anchor',\n",
       "       'ancient', 'ancillari', 'and', 'andal', 'andalit', 'ander',\n",
       "       'anderson', 'anderton', 'andi', 'andor', 'andorian', 'andr',\n",
       "       'andrea', 'andreth', 'andrew', 'andril', 'androgyn', 'android',\n",
       "       'andromeda', 'anduin', 'anduril', 'anecdot', 'anesthet', 'anew',\n",
       "       'ang', 'angband', 'angel', 'angela', 'angelica', 'angelina',\n",
       "       'angelo', 'angelu', 'anger', 'angi', 'angier', 'angl', 'angle',\n",
       "       'anglia', 'anglo', 'angmar', 'angr', 'angreal', 'angri', 'angrier',\n",
       "       'angrili', 'angron', 'angrygm', 'angst', 'angu', 'anguish',\n",
       "       'angular', 'anh', 'ani', 'anim', 'anima', 'animagi', 'animagu',\n",
       "       'animal', 'animalist', 'animals', 'animatrix', 'animatron',\n",
       "       'anime', 'animorph', 'animos', 'animu', 'anita', 'ankh', 'ankheg',\n",
       "       'ankl', 'anklet', 'ann', 'anna', 'annabeth', 'annal', 'annatar',\n",
       "       'annex', 'anni', 'annihil', 'anniversari', 'annot', 'announc',\n",
       "       'annoy', 'annoyingli', 'annual', 'annul', 'annular', 'anoat',\n",
       "       'anoint', 'anomal', 'anomali', 'anonym', 'anor', 'anoth', 'anrion',\n",
       "       'ansel', 'ansibl', 'answ', 'answer', 'ant', 'antagon',\n",
       "       'antagonist', 'antar', 'antarct', 'antarctica', 'anteced',\n",
       "       'antediluvian', 'antenna', 'antha', 'anthem', 'antholog',\n",
       "       'anthologis', 'anthoni', 'anthropolog', 'anthropologist',\n",
       "       'anthropomorph', 'anti', 'antialias', 'antibodi', 'antic',\n",
       "       'anticip', 'antidot', 'antigrav', 'antil', 'antilif', 'antimag',\n",
       "       'antimatt', 'antioch', 'antipaladin', 'antipathi', 'antiqu',\n",
       "       'antisoci', 'antithesi', 'antithet', 'antitoxin', 'antler',\n",
       "       'antoin', 'anton', 'antonio', 'anubi', 'anvil', 'anxieti',\n",
       "       'anxiou', 'anxious', 'any', 'anya', 'anybodi', 'anydic', 'anyhow',\n",
       "       'anymor', 'anyon', 'anyplac', 'anyspel', 'anyth', 'anytim',\n",
       "       'anytime', 'anyway', 'anywher', 'anywhere', 'ao', 'aoa', 'aoe',\n",
       "       'aol', 'aon', 'aoo', 'aotc', 'aov', 'ap', 'apart', 'apathet',\n",
       "       'apathi', 'apc', 'ape', 'apertur', 'aperture', 'apex', 'apg',\n",
       "       'aphrodit', 'api', 'apiec', 'apl', 'apnap', 'apo', 'apoc',\n",
       "       'apocalyps', 'apocalypt', 'apochromat', 'apocryph', 'apocrypha',\n",
       "       'apod', 'apokolip', 'apollo', 'apolog', 'apologet', 'apologis'],\n",
       "      dtype=object)"
      ]
     },
     "execution_count": 21,
     "metadata": {},
     "output_type": "execute_result"
    }
   ],
   "source": [
    "terms = vectorizer.get_feature_names_out()\n",
    "terms[2000:2200]"
   ]
  },
  {
   "cell_type": "markdown",
   "id": "jk5ZxaOhF-8O",
   "metadata": {
    "id": "jk5ZxaOhF-8O"
   },
   "source": [
    "# Matching & Ranking"
   ]
  },
  {
   "cell_type": "markdown",
   "id": "qqZmevjFGEXh",
   "metadata": {
    "id": "qqZmevjFGEXh"
   },
   "source": [
    "## Consine Similarity | TfidfVectorizer"
   ]
  },
  {
   "cell_type": "code",
   "execution_count": null,
   "id": "pz6j17q3ltEX",
   "metadata": {
    "id": "pz6j17q3ltEX"
   },
   "outputs": [],
   "source": [
    "similarity_tfidf = cosine_similarity(tfidf_queries,tfidf_docs)\n",
    "df_similarity = pd.DataFrame(similarity_tfidf)"
   ]
  },
  {
   "cell_type": "markdown",
   "id": "bR_9xIfXCl21",
   "metadata": {
    "id": "bR_9xIfXCl21"
   },
   "source": [
    "## Calculate Top 10 Similarity"
   ]
  },
  {
   "cell_type": "code",
   "execution_count": 39,
   "id": "NDXUxYK9VxyI",
   "metadata": {
    "id": "NDXUxYK9VxyI"
   },
   "outputs": [],
   "source": [
    "# Function to get the top 10 similarities for each query\n",
    "def get_top_n_similarities(siml_df, n=10):\n",
    "    top_n_df = pd.DataFrame()\n",
    "    for query_index in siml_df.index:\n",
    "        top_n_similarities = siml_df.loc[query_index].nlargest(n)\n",
    "        top_n_df_query = pd.DataFrame({\n",
    "            'query_id': query_index,\n",
    "            'doc_id': top_n_similarities.index,\n",
    "            'similarity': top_n_similarities.values\n",
    "        })\n",
    "        top_n_df = pd.concat([top_n_df, top_n_df_query], ignore_index=True)\n",
    "    return top_n_df\n",
    "\n",
    "top_10_similarities = get_top_n_similarities(df_similarity, n=10)"
   ]
  },
  {
   "cell_type": "code",
   "execution_count": 40,
   "id": "wNVA31tJFM42",
   "metadata": {
    "colab": {
     "base_uri": "https://localhost:8080/",
     "height": 990
    },
    "id": "wNVA31tJFM42",
    "outputId": "968863d1-1c4c-4d54-ac5d-ba5878abfdac"
   },
   "outputs": [
    {
     "data": {
      "application/vnd.google.colaboratory.intrinsic+json": {
       "summary": "{\n  \"name\": \"top_10_similarities\",\n  \"rows\": 30,\n  \"fields\": [\n    {\n      \"column\": \"query_id\",\n      \"properties\": {\n        \"dtype\": \"number\",\n        \"std\": 0,\n        \"min\": 0,\n        \"max\": 2,\n        \"num_unique_values\": 3,\n        \"samples\": [\n          0,\n          1,\n          2\n        ],\n        \"semantic_type\": \"\",\n        \"description\": \"\"\n      }\n    },\n    {\n      \"column\": \"doc_id\",\n      \"properties\": {\n        \"dtype\": \"number\",\n        \"std\": 34305,\n        \"min\": 87731,\n        \"max\": 243082,\n        \"num_unique_values\": 30,\n        \"samples\": [\n          198486,\n          202154,\n          130382\n        ],\n        \"semantic_type\": \"\",\n        \"description\": \"\"\n      }\n    },\n    {\n      \"column\": \"similarity\",\n      \"properties\": {\n        \"dtype\": \"number\",\n        \"std\": 0.18276057655249578,\n        \"min\": 0.25997773100109733,\n        \"max\": 0.7849026261689912,\n        \"num_unique_values\": 29,\n        \"samples\": [\n          0.6225116803138331,\n          0.2679974452135787,\n          0.28568126210466055\n        ],\n        \"semantic_type\": \"\",\n        \"description\": \"\"\n      }\n    }\n  ]\n}",
       "type": "dataframe"
      },
      "text/html": [
       "\n",
       "  <div id=\"df-e2a0741c-8c18-4cd2-ab0f-c18324410549\" class=\"colab-df-container\">\n",
       "    <div>\n",
       "<style scoped>\n",
       "    .dataframe tbody tr th:only-of-type {\n",
       "        vertical-align: middle;\n",
       "    }\n",
       "\n",
       "    .dataframe tbody tr th {\n",
       "        vertical-align: top;\n",
       "    }\n",
       "\n",
       "    .dataframe thead th {\n",
       "        text-align: right;\n",
       "    }\n",
       "</style>\n",
       "<table border=\"1\" class=\"dataframe\">\n",
       "  <thead>\n",
       "    <tr style=\"text-align: right;\">\n",
       "      <th></th>\n",
       "      <th>query_id</th>\n",
       "      <th>doc_id</th>\n",
       "      <th>similarity</th>\n",
       "    </tr>\n",
       "  </thead>\n",
       "  <tbody>\n",
       "    <tr>\n",
       "      <th>0</th>\n",
       "      <td>0</td>\n",
       "      <td>150148</td>\n",
       "      <td>0.676023</td>\n",
       "    </tr>\n",
       "    <tr>\n",
       "      <th>1</th>\n",
       "      <td>0</td>\n",
       "      <td>150149</td>\n",
       "      <td>0.676023</td>\n",
       "    </tr>\n",
       "    <tr>\n",
       "      <th>2</th>\n",
       "      <td>0</td>\n",
       "      <td>175930</td>\n",
       "      <td>0.655907</td>\n",
       "    </tr>\n",
       "    <tr>\n",
       "      <th>3</th>\n",
       "      <td>0</td>\n",
       "      <td>162152</td>\n",
       "      <td>0.655501</td>\n",
       "    </tr>\n",
       "    <tr>\n",
       "      <th>4</th>\n",
       "      <td>0</td>\n",
       "      <td>193458</td>\n",
       "      <td>0.631334</td>\n",
       "    </tr>\n",
       "    <tr>\n",
       "      <th>5</th>\n",
       "      <td>0</td>\n",
       "      <td>130975</td>\n",
       "      <td>0.623600</td>\n",
       "    </tr>\n",
       "    <tr>\n",
       "      <th>6</th>\n",
       "      <td>0</td>\n",
       "      <td>174249</td>\n",
       "      <td>0.623257</td>\n",
       "    </tr>\n",
       "    <tr>\n",
       "      <th>7</th>\n",
       "      <td>0</td>\n",
       "      <td>125119</td>\n",
       "      <td>0.610618</td>\n",
       "    </tr>\n",
       "    <tr>\n",
       "      <th>8</th>\n",
       "      <td>0</td>\n",
       "      <td>132114</td>\n",
       "      <td>0.610269</td>\n",
       "    </tr>\n",
       "    <tr>\n",
       "      <th>9</th>\n",
       "      <td>0</td>\n",
       "      <td>115817</td>\n",
       "      <td>0.606276</td>\n",
       "    </tr>\n",
       "    <tr>\n",
       "      <th>10</th>\n",
       "      <td>1</td>\n",
       "      <td>243082</td>\n",
       "      <td>0.324596</td>\n",
       "    </tr>\n",
       "    <tr>\n",
       "      <th>11</th>\n",
       "      <td>1</td>\n",
       "      <td>87731</td>\n",
       "      <td>0.309333</td>\n",
       "    </tr>\n",
       "    <tr>\n",
       "      <th>12</th>\n",
       "      <td>1</td>\n",
       "      <td>158379</td>\n",
       "      <td>0.286836</td>\n",
       "    </tr>\n",
       "    <tr>\n",
       "      <th>13</th>\n",
       "      <td>1</td>\n",
       "      <td>114534</td>\n",
       "      <td>0.285681</td>\n",
       "    </tr>\n",
       "    <tr>\n",
       "      <th>14</th>\n",
       "      <td>1</td>\n",
       "      <td>132870</td>\n",
       "      <td>0.276696</td>\n",
       "    </tr>\n",
       "    <tr>\n",
       "      <th>15</th>\n",
       "      <td>1</td>\n",
       "      <td>202154</td>\n",
       "      <td>0.272865</td>\n",
       "    </tr>\n",
       "    <tr>\n",
       "      <th>16</th>\n",
       "      <td>1</td>\n",
       "      <td>202464</td>\n",
       "      <td>0.269600</td>\n",
       "    </tr>\n",
       "    <tr>\n",
       "      <th>17</th>\n",
       "      <td>1</td>\n",
       "      <td>152442</td>\n",
       "      <td>0.267997</td>\n",
       "    </tr>\n",
       "    <tr>\n",
       "      <th>18</th>\n",
       "      <td>1</td>\n",
       "      <td>156159</td>\n",
       "      <td>0.263282</td>\n",
       "    </tr>\n",
       "    <tr>\n",
       "      <th>19</th>\n",
       "      <td>1</td>\n",
       "      <td>185582</td>\n",
       "      <td>0.259978</td>\n",
       "    </tr>\n",
       "    <tr>\n",
       "      <th>20</th>\n",
       "      <td>2</td>\n",
       "      <td>164706</td>\n",
       "      <td>0.784903</td>\n",
       "    </tr>\n",
       "    <tr>\n",
       "      <th>21</th>\n",
       "      <td>2</td>\n",
       "      <td>126101</td>\n",
       "      <td>0.768826</td>\n",
       "    </tr>\n",
       "    <tr>\n",
       "      <th>22</th>\n",
       "      <td>2</td>\n",
       "      <td>132018</td>\n",
       "      <td>0.698078</td>\n",
       "    </tr>\n",
       "    <tr>\n",
       "      <th>23</th>\n",
       "      <td>2</td>\n",
       "      <td>130382</td>\n",
       "      <td>0.658207</td>\n",
       "    </tr>\n",
       "    <tr>\n",
       "      <th>24</th>\n",
       "      <td>2</td>\n",
       "      <td>134127</td>\n",
       "      <td>0.641804</td>\n",
       "    </tr>\n",
       "    <tr>\n",
       "      <th>25</th>\n",
       "      <td>2</td>\n",
       "      <td>155282</td>\n",
       "      <td>0.641348</td>\n",
       "    </tr>\n",
       "    <tr>\n",
       "      <th>26</th>\n",
       "      <td>2</td>\n",
       "      <td>210885</td>\n",
       "      <td>0.636543</td>\n",
       "    </tr>\n",
       "    <tr>\n",
       "      <th>27</th>\n",
       "      <td>2</td>\n",
       "      <td>198486</td>\n",
       "      <td>0.625110</td>\n",
       "    </tr>\n",
       "    <tr>\n",
       "      <th>28</th>\n",
       "      <td>2</td>\n",
       "      <td>147092</td>\n",
       "      <td>0.622512</td>\n",
       "    </tr>\n",
       "    <tr>\n",
       "      <th>29</th>\n",
       "      <td>2</td>\n",
       "      <td>186912</td>\n",
       "      <td>0.612950</td>\n",
       "    </tr>\n",
       "  </tbody>\n",
       "</table>\n",
       "</div>\n",
       "    <div class=\"colab-df-buttons\">\n",
       "\n",
       "  <div class=\"colab-df-container\">\n",
       "    <button class=\"colab-df-convert\" onclick=\"convertToInteractive('df-e2a0741c-8c18-4cd2-ab0f-c18324410549')\"\n",
       "            title=\"Convert this dataframe to an interactive table.\"\n",
       "            style=\"display:none;\">\n",
       "\n",
       "  <svg xmlns=\"http://www.w3.org/2000/svg\" height=\"24px\" viewBox=\"0 -960 960 960\">\n",
       "    <path d=\"M120-120v-720h720v720H120Zm60-500h600v-160H180v160Zm220 220h160v-160H400v160Zm0 220h160v-160H400v160ZM180-400h160v-160H180v160Zm440 0h160v-160H620v160ZM180-180h160v-160H180v160Zm440 0h160v-160H620v160Z\"/>\n",
       "  </svg>\n",
       "    </button>\n",
       "\n",
       "  <style>\n",
       "    .colab-df-container {\n",
       "      display:flex;\n",
       "      gap: 12px;\n",
       "    }\n",
       "\n",
       "    .colab-df-convert {\n",
       "      background-color: #E8F0FE;\n",
       "      border: none;\n",
       "      border-radius: 50%;\n",
       "      cursor: pointer;\n",
       "      display: none;\n",
       "      fill: #1967D2;\n",
       "      height: 32px;\n",
       "      padding: 0 0 0 0;\n",
       "      width: 32px;\n",
       "    }\n",
       "\n",
       "    .colab-df-convert:hover {\n",
       "      background-color: #E2EBFA;\n",
       "      box-shadow: 0px 1px 2px rgba(60, 64, 67, 0.3), 0px 1px 3px 1px rgba(60, 64, 67, 0.15);\n",
       "      fill: #174EA6;\n",
       "    }\n",
       "\n",
       "    .colab-df-buttons div {\n",
       "      margin-bottom: 4px;\n",
       "    }\n",
       "\n",
       "    [theme=dark] .colab-df-convert {\n",
       "      background-color: #3B4455;\n",
       "      fill: #D2E3FC;\n",
       "    }\n",
       "\n",
       "    [theme=dark] .colab-df-convert:hover {\n",
       "      background-color: #434B5C;\n",
       "      box-shadow: 0px 1px 3px 1px rgba(0, 0, 0, 0.15);\n",
       "      filter: drop-shadow(0px 1px 2px rgba(0, 0, 0, 0.3));\n",
       "      fill: #FFFFFF;\n",
       "    }\n",
       "  </style>\n",
       "\n",
       "    <script>\n",
       "      const buttonEl =\n",
       "        document.querySelector('#df-e2a0741c-8c18-4cd2-ab0f-c18324410549 button.colab-df-convert');\n",
       "      buttonEl.style.display =\n",
       "        google.colab.kernel.accessAllowed ? 'block' : 'none';\n",
       "\n",
       "      async function convertToInteractive(key) {\n",
       "        const element = document.querySelector('#df-e2a0741c-8c18-4cd2-ab0f-c18324410549');\n",
       "        const dataTable =\n",
       "          await google.colab.kernel.invokeFunction('convertToInteractive',\n",
       "                                                    [key], {});\n",
       "        if (!dataTable) return;\n",
       "\n",
       "        const docLinkHtml = 'Like what you see? Visit the ' +\n",
       "          '<a target=\"_blank\" href=https://colab.research.google.com/notebooks/data_table.ipynb>data table notebook</a>'\n",
       "          + ' to learn more about interactive tables.';\n",
       "        element.innerHTML = '';\n",
       "        dataTable['output_type'] = 'display_data';\n",
       "        await google.colab.output.renderOutput(dataTable, element);\n",
       "        const docLink = document.createElement('div');\n",
       "        docLink.innerHTML = docLinkHtml;\n",
       "        element.appendChild(docLink);\n",
       "      }\n",
       "    </script>\n",
       "  </div>\n",
       "\n",
       "\n",
       "<div id=\"df-40031bfd-71ba-4c48-be21-5d554fbde723\">\n",
       "  <button class=\"colab-df-quickchart\" onclick=\"quickchart('df-40031bfd-71ba-4c48-be21-5d554fbde723')\"\n",
       "            title=\"Suggest charts\"\n",
       "            style=\"display:none;\">\n",
       "\n",
       "<svg xmlns=\"http://www.w3.org/2000/svg\" height=\"24px\"viewBox=\"0 0 24 24\"\n",
       "     width=\"24px\">\n",
       "    <g>\n",
       "        <path d=\"M19 3H5c-1.1 0-2 .9-2 2v14c0 1.1.9 2 2 2h14c1.1 0 2-.9 2-2V5c0-1.1-.9-2-2-2zM9 17H7v-7h2v7zm4 0h-2V7h2v10zm4 0h-2v-4h2v4z\"/>\n",
       "    </g>\n",
       "</svg>\n",
       "  </button>\n",
       "\n",
       "<style>\n",
       "  .colab-df-quickchart {\n",
       "      --bg-color: #E8F0FE;\n",
       "      --fill-color: #1967D2;\n",
       "      --hover-bg-color: #E2EBFA;\n",
       "      --hover-fill-color: #174EA6;\n",
       "      --disabled-fill-color: #AAA;\n",
       "      --disabled-bg-color: #DDD;\n",
       "  }\n",
       "\n",
       "  [theme=dark] .colab-df-quickchart {\n",
       "      --bg-color: #3B4455;\n",
       "      --fill-color: #D2E3FC;\n",
       "      --hover-bg-color: #434B5C;\n",
       "      --hover-fill-color: #FFFFFF;\n",
       "      --disabled-bg-color: #3B4455;\n",
       "      --disabled-fill-color: #666;\n",
       "  }\n",
       "\n",
       "  .colab-df-quickchart {\n",
       "    background-color: var(--bg-color);\n",
       "    border: none;\n",
       "    border-radius: 50%;\n",
       "    cursor: pointer;\n",
       "    display: none;\n",
       "    fill: var(--fill-color);\n",
       "    height: 32px;\n",
       "    padding: 0;\n",
       "    width: 32px;\n",
       "  }\n",
       "\n",
       "  .colab-df-quickchart:hover {\n",
       "    background-color: var(--hover-bg-color);\n",
       "    box-shadow: 0 1px 2px rgba(60, 64, 67, 0.3), 0 1px 3px 1px rgba(60, 64, 67, 0.15);\n",
       "    fill: var(--button-hover-fill-color);\n",
       "  }\n",
       "\n",
       "  .colab-df-quickchart-complete:disabled,\n",
       "  .colab-df-quickchart-complete:disabled:hover {\n",
       "    background-color: var(--disabled-bg-color);\n",
       "    fill: var(--disabled-fill-color);\n",
       "    box-shadow: none;\n",
       "  }\n",
       "\n",
       "  .colab-df-spinner {\n",
       "    border: 2px solid var(--fill-color);\n",
       "    border-color: transparent;\n",
       "    border-bottom-color: var(--fill-color);\n",
       "    animation:\n",
       "      spin 1s steps(1) infinite;\n",
       "  }\n",
       "\n",
       "  @keyframes spin {\n",
       "    0% {\n",
       "      border-color: transparent;\n",
       "      border-bottom-color: var(--fill-color);\n",
       "      border-left-color: var(--fill-color);\n",
       "    }\n",
       "    20% {\n",
       "      border-color: transparent;\n",
       "      border-left-color: var(--fill-color);\n",
       "      border-top-color: var(--fill-color);\n",
       "    }\n",
       "    30% {\n",
       "      border-color: transparent;\n",
       "      border-left-color: var(--fill-color);\n",
       "      border-top-color: var(--fill-color);\n",
       "      border-right-color: var(--fill-color);\n",
       "    }\n",
       "    40% {\n",
       "      border-color: transparent;\n",
       "      border-right-color: var(--fill-color);\n",
       "      border-top-color: var(--fill-color);\n",
       "    }\n",
       "    60% {\n",
       "      border-color: transparent;\n",
       "      border-right-color: var(--fill-color);\n",
       "    }\n",
       "    80% {\n",
       "      border-color: transparent;\n",
       "      border-right-color: var(--fill-color);\n",
       "      border-bottom-color: var(--fill-color);\n",
       "    }\n",
       "    90% {\n",
       "      border-color: transparent;\n",
       "      border-bottom-color: var(--fill-color);\n",
       "    }\n",
       "  }\n",
       "</style>\n",
       "\n",
       "  <script>\n",
       "    async function quickchart(key) {\n",
       "      const quickchartButtonEl =\n",
       "        document.querySelector('#' + key + ' button');\n",
       "      quickchartButtonEl.disabled = true;  // To prevent multiple clicks.\n",
       "      quickchartButtonEl.classList.add('colab-df-spinner');\n",
       "      try {\n",
       "        const charts = await google.colab.kernel.invokeFunction(\n",
       "            'suggestCharts', [key], {});\n",
       "      } catch (error) {\n",
       "        console.error('Error during call to suggestCharts:', error);\n",
       "      }\n",
       "      quickchartButtonEl.classList.remove('colab-df-spinner');\n",
       "      quickchartButtonEl.classList.add('colab-df-quickchart-complete');\n",
       "    }\n",
       "    (() => {\n",
       "      let quickchartButtonEl =\n",
       "        document.querySelector('#df-40031bfd-71ba-4c48-be21-5d554fbde723 button');\n",
       "      quickchartButtonEl.style.display =\n",
       "        google.colab.kernel.accessAllowed ? 'block' : 'none';\n",
       "    })();\n",
       "  </script>\n",
       "</div>\n",
       "    </div>\n",
       "  </div>\n"
      ],
      "text/plain": [
       "    query_id  doc_id  similarity\n",
       "0          0  150148    0.676023\n",
       "1          0  150149    0.676023\n",
       "2          0  175930    0.655907\n",
       "3          0  162152    0.655501\n",
       "4          0  193458    0.631334\n",
       "5          0  130975    0.623600\n",
       "6          0  174249    0.623257\n",
       "7          0  125119    0.610618\n",
       "8          0  132114    0.610269\n",
       "9          0  115817    0.606276\n",
       "10         1  243082    0.324596\n",
       "11         1   87731    0.309333\n",
       "12         1  158379    0.286836\n",
       "13         1  114534    0.285681\n",
       "14         1  132870    0.276696\n",
       "15         1  202154    0.272865\n",
       "16         1  202464    0.269600\n",
       "17         1  152442    0.267997\n",
       "18         1  156159    0.263282\n",
       "19         1  185582    0.259978\n",
       "20         2  164706    0.784903\n",
       "21         2  126101    0.768826\n",
       "22         2  132018    0.698078\n",
       "23         2  130382    0.658207\n",
       "24         2  134127    0.641804\n",
       "25         2  155282    0.641348\n",
       "26         2  210885    0.636543\n",
       "27         2  198486    0.625110\n",
       "28         2  147092    0.622512\n",
       "29         2  186912    0.612950"
      ]
     },
     "execution_count": 40,
     "metadata": {},
     "output_type": "execute_result"
    }
   ],
   "source": [
    "top_10_similarities.iloc[:30]"
   ]
  },
  {
   "cell_type": "code",
   "execution_count": null,
   "id": "n_Z9vPMD0aKe",
   "metadata": {
    "colab": {
     "base_uri": "https://localhost:8080/",
     "height": 363
    },
    "id": "n_Z9vPMD0aKe",
    "outputId": "37c4ed77-3a16-443f-de58-54d983feb6f2"
   },
   "outputs": [
    {
     "data": {
      "application/vnd.google.colaboratory.intrinsic+json": {
       "summary": "{\n  \"name\": \"qrels\",\n  \"rows\": 10,\n  \"fields\": [\n    {\n      \"column\": \"query_id\",\n      \"properties\": {\n        \"dtype\": \"category\",\n        \"num_unique_values\": 1,\n        \"samples\": [\n          \"0\"\n        ],\n        \"semantic_type\": \"\",\n        \"description\": \"\"\n      }\n    },\n    {\n      \"column\": \"doc_id\",\n      \"properties\": {\n        \"dtype\": \"string\",\n        \"num_unique_values\": 10,\n        \"samples\": [\n          \"131026\"\n        ],\n        \"semantic_type\": \"\",\n        \"description\": \"\"\n      }\n    },\n    {\n      \"column\": \"relevance\",\n      \"properties\": {\n        \"dtype\": \"number\",\n        \"std\": 0,\n        \"min\": 1,\n        \"max\": 1,\n        \"num_unique_values\": 1,\n        \"samples\": [\n          1\n        ],\n        \"semantic_type\": \"\",\n        \"description\": \"\"\n      }\n    },\n    {\n      \"column\": \"iteration\",\n      \"properties\": {\n        \"dtype\": \"category\",\n        \"num_unique_values\": 1,\n        \"samples\": [\n          \"0\"\n        ],\n        \"semantic_type\": \"\",\n        \"description\": \"\"\n      }\n    }\n  ]\n}",
       "type": "dataframe"
      },
      "text/html": [
       "\n",
       "  <div id=\"df-fb519917-170b-4ce8-a8bb-6f4bc30fceec\" class=\"colab-df-container\">\n",
       "    <div>\n",
       "<style scoped>\n",
       "    .dataframe tbody tr th:only-of-type {\n",
       "        vertical-align: middle;\n",
       "    }\n",
       "\n",
       "    .dataframe tbody tr th {\n",
       "        vertical-align: top;\n",
       "    }\n",
       "\n",
       "    .dataframe thead th {\n",
       "        text-align: right;\n",
       "    }\n",
       "</style>\n",
       "<table border=\"1\" class=\"dataframe\">\n",
       "  <thead>\n",
       "    <tr style=\"text-align: right;\">\n",
       "      <th></th>\n",
       "      <th>query_id</th>\n",
       "      <th>doc_id</th>\n",
       "      <th>relevance</th>\n",
       "      <th>iteration</th>\n",
       "    </tr>\n",
       "  </thead>\n",
       "  <tbody>\n",
       "    <tr>\n",
       "      <th>0</th>\n",
       "      <td>0</td>\n",
       "      <td>130975</td>\n",
       "      <td>1</td>\n",
       "      <td>0</td>\n",
       "    </tr>\n",
       "    <tr>\n",
       "      <th>1</th>\n",
       "      <td>0</td>\n",
       "      <td>130977</td>\n",
       "      <td>1</td>\n",
       "      <td>0</td>\n",
       "    </tr>\n",
       "    <tr>\n",
       "      <th>2</th>\n",
       "      <td>0</td>\n",
       "      <td>130982</td>\n",
       "      <td>1</td>\n",
       "      <td>0</td>\n",
       "    </tr>\n",
       "    <tr>\n",
       "      <th>3</th>\n",
       "      <td>0</td>\n",
       "      <td>130991</td>\n",
       "      <td>1</td>\n",
       "      <td>0</td>\n",
       "    </tr>\n",
       "    <tr>\n",
       "      <th>4</th>\n",
       "      <td>0</td>\n",
       "      <td>130997</td>\n",
       "      <td>1</td>\n",
       "      <td>0</td>\n",
       "    </tr>\n",
       "    <tr>\n",
       "      <th>5</th>\n",
       "      <td>0</td>\n",
       "      <td>130998</td>\n",
       "      <td>1</td>\n",
       "      <td>0</td>\n",
       "    </tr>\n",
       "    <tr>\n",
       "      <th>6</th>\n",
       "      <td>0</td>\n",
       "      <td>131019</td>\n",
       "      <td>1</td>\n",
       "      <td>0</td>\n",
       "    </tr>\n",
       "    <tr>\n",
       "      <th>7</th>\n",
       "      <td>0</td>\n",
       "      <td>131021</td>\n",
       "      <td>1</td>\n",
       "      <td>0</td>\n",
       "    </tr>\n",
       "    <tr>\n",
       "      <th>8</th>\n",
       "      <td>0</td>\n",
       "      <td>131026</td>\n",
       "      <td>1</td>\n",
       "      <td>0</td>\n",
       "    </tr>\n",
       "    <tr>\n",
       "      <th>9</th>\n",
       "      <td>0</td>\n",
       "      <td>135480</td>\n",
       "      <td>1</td>\n",
       "      <td>0</td>\n",
       "    </tr>\n",
       "  </tbody>\n",
       "</table>\n",
       "</div>\n",
       "    <div class=\"colab-df-buttons\">\n",
       "\n",
       "  <div class=\"colab-df-container\">\n",
       "    <button class=\"colab-df-convert\" onclick=\"convertToInteractive('df-fb519917-170b-4ce8-a8bb-6f4bc30fceec')\"\n",
       "            title=\"Convert this dataframe to an interactive table.\"\n",
       "            style=\"display:none;\">\n",
       "\n",
       "  <svg xmlns=\"http://www.w3.org/2000/svg\" height=\"24px\" viewBox=\"0 -960 960 960\">\n",
       "    <path d=\"M120-120v-720h720v720H120Zm60-500h600v-160H180v160Zm220 220h160v-160H400v160Zm0 220h160v-160H400v160ZM180-400h160v-160H180v160Zm440 0h160v-160H620v160ZM180-180h160v-160H180v160Zm440 0h160v-160H620v160Z\"/>\n",
       "  </svg>\n",
       "    </button>\n",
       "\n",
       "  <style>\n",
       "    .colab-df-container {\n",
       "      display:flex;\n",
       "      gap: 12px;\n",
       "    }\n",
       "\n",
       "    .colab-df-convert {\n",
       "      background-color: #E8F0FE;\n",
       "      border: none;\n",
       "      border-radius: 50%;\n",
       "      cursor: pointer;\n",
       "      display: none;\n",
       "      fill: #1967D2;\n",
       "      height: 32px;\n",
       "      padding: 0 0 0 0;\n",
       "      width: 32px;\n",
       "    }\n",
       "\n",
       "    .colab-df-convert:hover {\n",
       "      background-color: #E2EBFA;\n",
       "      box-shadow: 0px 1px 2px rgba(60, 64, 67, 0.3), 0px 1px 3px 1px rgba(60, 64, 67, 0.15);\n",
       "      fill: #174EA6;\n",
       "    }\n",
       "\n",
       "    .colab-df-buttons div {\n",
       "      margin-bottom: 4px;\n",
       "    }\n",
       "\n",
       "    [theme=dark] .colab-df-convert {\n",
       "      background-color: #3B4455;\n",
       "      fill: #D2E3FC;\n",
       "    }\n",
       "\n",
       "    [theme=dark] .colab-df-convert:hover {\n",
       "      background-color: #434B5C;\n",
       "      box-shadow: 0px 1px 3px 1px rgba(0, 0, 0, 0.15);\n",
       "      filter: drop-shadow(0px 1px 2px rgba(0, 0, 0, 0.3));\n",
       "      fill: #FFFFFF;\n",
       "    }\n",
       "  </style>\n",
       "\n",
       "    <script>\n",
       "      const buttonEl =\n",
       "        document.querySelector('#df-fb519917-170b-4ce8-a8bb-6f4bc30fceec button.colab-df-convert');\n",
       "      buttonEl.style.display =\n",
       "        google.colab.kernel.accessAllowed ? 'block' : 'none';\n",
       "\n",
       "      async function convertToInteractive(key) {\n",
       "        const element = document.querySelector('#df-fb519917-170b-4ce8-a8bb-6f4bc30fceec');\n",
       "        const dataTable =\n",
       "          await google.colab.kernel.invokeFunction('convertToInteractive',\n",
       "                                                    [key], {});\n",
       "        if (!dataTable) return;\n",
       "\n",
       "        const docLinkHtml = 'Like what you see? Visit the ' +\n",
       "          '<a target=\"_blank\" href=https://colab.research.google.com/notebooks/data_table.ipynb>data table notebook</a>'\n",
       "          + ' to learn more about interactive tables.';\n",
       "        element.innerHTML = '';\n",
       "        dataTable['output_type'] = 'display_data';\n",
       "        await google.colab.output.renderOutput(dataTable, element);\n",
       "        const docLink = document.createElement('div');\n",
       "        docLink.innerHTML = docLinkHtml;\n",
       "        element.appendChild(docLink);\n",
       "      }\n",
       "    </script>\n",
       "  </div>\n",
       "\n",
       "\n",
       "<div id=\"df-89cd04e6-0781-44ab-8489-d0a58440f59f\">\n",
       "  <button class=\"colab-df-quickchart\" onclick=\"quickchart('df-89cd04e6-0781-44ab-8489-d0a58440f59f')\"\n",
       "            title=\"Suggest charts\"\n",
       "            style=\"display:none;\">\n",
       "\n",
       "<svg xmlns=\"http://www.w3.org/2000/svg\" height=\"24px\"viewBox=\"0 0 24 24\"\n",
       "     width=\"24px\">\n",
       "    <g>\n",
       "        <path d=\"M19 3H5c-1.1 0-2 .9-2 2v14c0 1.1.9 2 2 2h14c1.1 0 2-.9 2-2V5c0-1.1-.9-2-2-2zM9 17H7v-7h2v7zm4 0h-2V7h2v10zm4 0h-2v-4h2v4z\"/>\n",
       "    </g>\n",
       "</svg>\n",
       "  </button>\n",
       "\n",
       "<style>\n",
       "  .colab-df-quickchart {\n",
       "      --bg-color: #E8F0FE;\n",
       "      --fill-color: #1967D2;\n",
       "      --hover-bg-color: #E2EBFA;\n",
       "      --hover-fill-color: #174EA6;\n",
       "      --disabled-fill-color: #AAA;\n",
       "      --disabled-bg-color: #DDD;\n",
       "  }\n",
       "\n",
       "  [theme=dark] .colab-df-quickchart {\n",
       "      --bg-color: #3B4455;\n",
       "      --fill-color: #D2E3FC;\n",
       "      --hover-bg-color: #434B5C;\n",
       "      --hover-fill-color: #FFFFFF;\n",
       "      --disabled-bg-color: #3B4455;\n",
       "      --disabled-fill-color: #666;\n",
       "  }\n",
       "\n",
       "  .colab-df-quickchart {\n",
       "    background-color: var(--bg-color);\n",
       "    border: none;\n",
       "    border-radius: 50%;\n",
       "    cursor: pointer;\n",
       "    display: none;\n",
       "    fill: var(--fill-color);\n",
       "    height: 32px;\n",
       "    padding: 0;\n",
       "    width: 32px;\n",
       "  }\n",
       "\n",
       "  .colab-df-quickchart:hover {\n",
       "    background-color: var(--hover-bg-color);\n",
       "    box-shadow: 0 1px 2px rgba(60, 64, 67, 0.3), 0 1px 3px 1px rgba(60, 64, 67, 0.15);\n",
       "    fill: var(--button-hover-fill-color);\n",
       "  }\n",
       "\n",
       "  .colab-df-quickchart-complete:disabled,\n",
       "  .colab-df-quickchart-complete:disabled:hover {\n",
       "    background-color: var(--disabled-bg-color);\n",
       "    fill: var(--disabled-fill-color);\n",
       "    box-shadow: none;\n",
       "  }\n",
       "\n",
       "  .colab-df-spinner {\n",
       "    border: 2px solid var(--fill-color);\n",
       "    border-color: transparent;\n",
       "    border-bottom-color: var(--fill-color);\n",
       "    animation:\n",
       "      spin 1s steps(1) infinite;\n",
       "  }\n",
       "\n",
       "  @keyframes spin {\n",
       "    0% {\n",
       "      border-color: transparent;\n",
       "      border-bottom-color: var(--fill-color);\n",
       "      border-left-color: var(--fill-color);\n",
       "    }\n",
       "    20% {\n",
       "      border-color: transparent;\n",
       "      border-left-color: var(--fill-color);\n",
       "      border-top-color: var(--fill-color);\n",
       "    }\n",
       "    30% {\n",
       "      border-color: transparent;\n",
       "      border-left-color: var(--fill-color);\n",
       "      border-top-color: var(--fill-color);\n",
       "      border-right-color: var(--fill-color);\n",
       "    }\n",
       "    40% {\n",
       "      border-color: transparent;\n",
       "      border-right-color: var(--fill-color);\n",
       "      border-top-color: var(--fill-color);\n",
       "    }\n",
       "    60% {\n",
       "      border-color: transparent;\n",
       "      border-right-color: var(--fill-color);\n",
       "    }\n",
       "    80% {\n",
       "      border-color: transparent;\n",
       "      border-right-color: var(--fill-color);\n",
       "      border-bottom-color: var(--fill-color);\n",
       "    }\n",
       "    90% {\n",
       "      border-color: transparent;\n",
       "      border-bottom-color: var(--fill-color);\n",
       "    }\n",
       "  }\n",
       "</style>\n",
       "\n",
       "  <script>\n",
       "    async function quickchart(key) {\n",
       "      const quickchartButtonEl =\n",
       "        document.querySelector('#' + key + ' button');\n",
       "      quickchartButtonEl.disabled = true;  // To prevent multiple clicks.\n",
       "      quickchartButtonEl.classList.add('colab-df-spinner');\n",
       "      try {\n",
       "        const charts = await google.colab.kernel.invokeFunction(\n",
       "            'suggestCharts', [key], {});\n",
       "      } catch (error) {\n",
       "        console.error('Error during call to suggestCharts:', error);\n",
       "      }\n",
       "      quickchartButtonEl.classList.remove('colab-df-spinner');\n",
       "      quickchartButtonEl.classList.add('colab-df-quickchart-complete');\n",
       "    }\n",
       "    (() => {\n",
       "      let quickchartButtonEl =\n",
       "        document.querySelector('#df-89cd04e6-0781-44ab-8489-d0a58440f59f button');\n",
       "      quickchartButtonEl.style.display =\n",
       "        google.colab.kernel.accessAllowed ? 'block' : 'none';\n",
       "    })();\n",
       "  </script>\n",
       "</div>\n",
       "    </div>\n",
       "  </div>\n"
      ],
      "text/plain": [
       "  query_id  doc_id  relevance iteration\n",
       "0        0  130975          1         0\n",
       "1        0  130977          1         0\n",
       "2        0  130982          1         0\n",
       "3        0  130991          1         0\n",
       "4        0  130997          1         0\n",
       "5        0  130998          1         0\n",
       "6        0  131019          1         0\n",
       "7        0  131021          1         0\n",
       "8        0  131026          1         0\n",
       "9        0  135480          1         0"
      ]
     },
     "execution_count": 25,
     "metadata": {},
     "output_type": "execute_result"
    }
   ],
   "source": [
    "qrels.iloc[0:10]"
   ]
  },
  {
   "cell_type": "markdown",
   "id": "GygHfJHaGMgS",
   "metadata": {
    "id": "GygHfJHaGMgS"
   },
   "source": [
    "## Calculate Precision & Recall @ 10"
   ]
  },
  {
   "cell_type": "code",
   "execution_count": null,
   "id": "etxGeEpVaXgU",
   "metadata": {
    "id": "etxGeEpVaXgU"
   },
   "outputs": [],
   "source": [
    "def precision_recall_at_10(relevant_docs, retrieved_docs):\n",
    "    k = 10\n",
    "    # Ensure we do not exceed the length of the retrieved_docs list\n",
    "    retrieved_k = retrieved_docs[:k]\n",
    "    # Calculate the number of relevant and retrieved documents\n",
    "    relevant_and_retrieved = len(set(retrieved_k) & set(relevant_docs))\n",
    "    # Precision: proportion of retrieved documents that are relevant\n",
    "    precision = relevant_and_retrieved / k\n",
    "    # Recall: proportion of relevant documents that are retrieved\n",
    "    recall = relevant_and_retrieved / len(relevant_docs)\n",
    "    return precision, recall"
   ]
  },
  {
   "cell_type": "code",
   "execution_count": null,
   "id": "D2xE63R7xR6S",
   "metadata": {
    "id": "D2xE63R7xR6S"
   },
   "outputs": [],
   "source": [
    "# Ensure the data types of query_id columns are consistent\n",
    "top_10_similarities['query_id'] = top_10_similarities['query_id'].astype(int)\n",
    "qrels['query_id'] = qrels['query_id'].astype(int)\n",
    "# Ensure the data types of doc_id columns are consistent\n",
    "top_10_similarities['doc_id'] = top_10_similarities['doc_id'].astype(int)\n",
    "qrels['doc_id'] = qrels['doc_id'].astype(int)"
   ]
  },
  {
   "cell_type": "code",
   "execution_count": null,
   "id": "YKf9e8zlyoa7",
   "metadata": {
    "colab": {
     "base_uri": "https://localhost:8080/"
    },
    "id": "YKf9e8zlyoa7",
    "outputId": "186e7f1b-4d9f-4fa8-c863-01f9eab40f28"
   },
   "outputs": [
    {
     "name": "stdout",
     "output_type": "stream",
     "text": [
      "Query ID: 0\n",
      "Retrieved Docs: [150148, 150149, 175930, 162152, 193458, 130975, 174249, 125119, 132114, 115817]\n",
      "Relevant Docs: [130975, 130977, 130982, 130991, 130997, 130998, 131019, 131021, 131026, 135480, 139194, 143870, 145486, 182816]\n",
      "Precision at 10: 0.1\n",
      "Recall at 10: 0.07142857142857142\n",
      "--------------------------------------------------------------------------\n",
      "Query ID: 1\n",
      "Retrieved Docs: [243082, 87731, 158379, 114534, 132870, 202154, 202464, 152442, 156159, 185582]\n",
      "Relevant Docs: [152301, 152331, 152343, 152442, 169727]\n",
      "Precision at 10: 0.1\n",
      "Recall at 10: 0.2\n",
      "--------------------------------------------------------------------------\n",
      "Query ID: 2\n",
      "Retrieved Docs: [164706, 126101, 132018, 130382, 134127, 155282, 210885, 198486, 147092, 186912]\n",
      "Relevant Docs: [109883, 109890, 111423, 111459, 123072, 123190, 123866, 126082, 130382, 136722, 143233, 143357, 147092, 164706, 176593]\n",
      "Precision at 10: 0.3\n",
      "Recall at 10: 0.2\n",
      "--------------------------------------------------------------------------\n",
      "Query ID: 3\n",
      "Retrieved Docs: [160401, 169009, 162217, 112840, 110342, 191799, 189820, 158897, 163436, 192117]\n",
      "Relevant Docs: [110334, 110335, 110339, 110340, 110342, 110607, 112222, 116566, 117010, 118889, 119859, 120072, 121325, 127544, 127555, 133235, 133554, 134605, 135862, 140159, 142895, 156516, 157720, 167062, 174912, 181003, 182596, 187012, 191960, 192588, 207111]\n",
      "Precision at 10: 0.1\n",
      "Recall at 10: 0.03225806451612903\n",
      "--------------------------------------------------------------------------\n",
      "Query ID: 4\n",
      "Retrieved Docs: [91722, 96291, 102471, 100995, 97009, 46596, 91723, 99102, 11594, 40383]\n",
      "Relevant Docs: [153672]\n",
      "Precision at 10: 0.0\n",
      "Recall at 10: 0.0\n",
      "--------------------------------------------------------------------------\n",
      "Query ID: 5\n",
      "Retrieved Docs: [162847, 149994, 114908, 147348, 137608, 205694, 137615, 124816, 114218, 143453]\n",
      "Relevant Docs: [110194, 110197, 110199, 110204, 110219, 111192, 112001, 113065, 116405, 124755, 125721, 127353, 131043, 134664, 138370, 155507, 163753, 170348, 179085]\n",
      "Precision at 10: 0.0\n",
      "Recall at 10: 0.0\n",
      "--------------------------------------------------------------------------\n",
      "Query ID: 6\n",
      "Retrieved Docs: [112245, 150113, 171457, 150112, 194709, 159985, 138152, 130044, 194708, 160233]\n",
      "Relevant Docs: [112245, 112248, 114565, 159985]\n",
      "Precision at 10: 0.2\n",
      "Recall at 10: 0.5\n",
      "--------------------------------------------------------------------------\n",
      "Query ID: 7\n",
      "Retrieved Docs: [172386, 120188, 163853, 112460, 9144, 122240, 135206, 184688, 153435, 143202]\n",
      "Relevant Docs: [109846, 109848, 109849, 109882, 110075, 110504, 111812, 112282, 115381, 118513, 128580, 137577, 156965, 157271, 171787]\n",
      "Precision at 10: 0.0\n",
      "Recall at 10: 0.0\n",
      "--------------------------------------------------------------------------\n",
      "Query ID: 8\n",
      "Retrieved Docs: [151027, 157461, 189538, 149229, 157248, 153141, 157360, 159268, 156366, 203704]\n",
      "Relevant Docs: [157225, 157226, 157227, 157239, 157240, 157248, 157349, 157360, 157461, 157814, 189538]\n",
      "Precision at 10: 0.4\n",
      "Recall at 10: 0.36363636363636365\n",
      "--------------------------------------------------------------------------\n",
      "Query ID: 9\n",
      "Retrieved Docs: [127565, 191069, 58768, 115795, 193109, 152855, 168258, 152174, 235472, 108958]\n",
      "Relevant Docs: [150094, 150095, 150118, 153525]\n",
      "Precision at 10: 0.0\n",
      "Recall at 10: 0.0\n",
      "--------------------------------------------------------------------------\n",
      "Query ID: 10\n",
      "Retrieved Docs: [170235, 176085, 120340, 193903, 150874, 170640, 141919, 163744, 156401, 159279]\n",
      "Relevant Docs: [111038, 111039, 111040, 111041, 111042, 111044, 111071, 115047, 141919, 160916, 170235, 176085]\n",
      "Precision at 10: 0.3\n",
      "Recall at 10: 0.25\n",
      "--------------------------------------------------------------------------\n",
      "Query ID: 11\n",
      "Retrieved Docs: [135969, 148856, 153205, 153206, 176625, 123493, 177489, 127788, 120730, 190466]\n",
      "Relevant Docs: [135969, 135970, 135972, 135980, 136016, 140038, 153205, 153206, 153267, 167024, 192823, 195985]\n",
      "Precision at 10: 0.3\n",
      "Recall at 10: 0.25\n",
      "--------------------------------------------------------------------------\n",
      "Query ID: 12\n",
      "Retrieved Docs: [198915, 187429, 187420, 187515, 135543, 136025, 164868, 186381, 220140, 5658]\n",
      "Relevant Docs: [187420, 187429, 187515, 193531, 198915]\n",
      "Precision at 10: 0.4\n",
      "Recall at 10: 0.8\n",
      "--------------------------------------------------------------------------\n",
      "Query ID: 13\n",
      "Retrieved Docs: [245009, 161722, 203893, 53472, 199501, 37182, 114522, 161817, 126978, 206415]\n",
      "Relevant Docs: [139068, 139069]\n",
      "Precision at 10: 0.0\n",
      "Recall at 10: 0.0\n",
      "--------------------------------------------------------------------------\n",
      "Query ID: 14\n",
      "Retrieved Docs: [207423, 147521, 112183, 144714, 147293, 112542, 112541, 147954, 198435, 190338]\n",
      "Relevant Docs: [112183, 144181, 147521, 207423]\n",
      "Precision at 10: 0.3\n",
      "Recall at 10: 0.75\n",
      "--------------------------------------------------------------------------\n",
      "Query ID: 15\n",
      "Retrieved Docs: [122494, 115749, 135206, 9144, 200271, 153435, 143202, 172386, 184688, 158928]\n",
      "Relevant Docs: [112362, 115517, 115983]\n",
      "Precision at 10: 0.0\n",
      "Recall at 10: 0.0\n",
      "--------------------------------------------------------------------------\n",
      "Query ID: 16\n",
      "Retrieved Docs: [191590, 117367, 211541, 128409, 116473, 109815, 204367, 159721, 117350, 117444]\n",
      "Relevant Docs: [136653, 136654, 136655, 136662, 136680, 136684, 136715, 173516, 185728]\n",
      "Precision at 10: 0.0\n",
      "Recall at 10: 0.0\n",
      "--------------------------------------------------------------------------\n",
      "Query ID: 17\n",
      "Retrieved Docs: [133407, 184234, 149050, 132943, 132952, 159239, 130750, 190787, 133022, 147299]\n",
      "Relevant Docs: [112249, 112250, 112251, 163590, 170874]\n",
      "Precision at 10: 0.0\n",
      "Recall at 10: 0.0\n",
      "--------------------------------------------------------------------------\n",
      "Query ID: 18\n",
      "Retrieved Docs: [171924, 158670, 186068, 163522, 171901, 138612, 138847, 186072, 108274, 176846]\n",
      "Relevant Docs: [186001, 186002, 186009, 186011, 186068, 186072, 186095]\n",
      "Precision at 10: 0.2\n",
      "Recall at 10: 0.2857142857142857\n",
      "--------------------------------------------------------------------------\n",
      "Query ID: 19\n",
      "Retrieved Docs: [151027, 153141, 159268, 203704, 157360, 162623, 157248, 207167, 122810, 159154]\n",
      "Relevant Docs: [109824, 109825, 109826, 127580, 128162, 137450, 150060, 167492]\n",
      "Precision at 10: 0.0\n",
      "Recall at 10: 0.0\n",
      "--------------------------------------------------------------------------\n"
     ]
    }
   ],
   "source": [
    "query_ids = top_10_similarities['query_id'].unique()\n",
    "\n",
    "# Initialize lists to store precision and recall values\n",
    "precisions = []\n",
    "recalls = []\n",
    "\n",
    "# Iterate over each query_id and calculate precision and recall at 10\n",
    "for query_id in query_ids:\n",
    "    # Get the top 10 retrieved docs for this query\n",
    "    retrieved_docs = top_10_similarities[top_10_similarities['query_id'] == query_id]['doc_id'].tolist()\n",
    "\n",
    "    # Get the relevant docs for this query\n",
    "    relevant_docs = qrels[(qrels['query_id'] == query_id) & (qrels['relevance'] == 1)]['doc_id'].tolist()\n",
    "\n",
    "    # Debugging: Print the retrieved_docs and relevant_docs lists to ensure they are correct\n",
    "    if(query_id < 20):\n",
    "        print(f\"Query ID: {query_id}\")\n",
    "        print(f\"Retrieved Docs: {retrieved_docs}\")\n",
    "        print(f\"Relevant Docs: {relevant_docs}\")\n",
    "\n",
    "    # Check if relevant_docs is empty\n",
    "    if not relevant_docs:\n",
    "        print(f\"No relevant documents found for query_id {query_id}\")\n",
    "        continue\n",
    "\n",
    "    # Calculate precision and recall at 10\n",
    "    precision, recall = precision_recall_at_10(relevant_docs, retrieved_docs)\n",
    "\n",
    "    # Store the precision and recall values\n",
    "    precisions.append(precision)\n",
    "    recalls.append(recall)\n",
    "\n",
    "    # Print the results\n",
    "    if(query_id < 20):\n",
    "        print(f\"Precision at 10: {precision}\")\n",
    "        print(f\"Recall at 10: {recall}\")\n",
    "        print(\"--------------------------------------------------------------------------\")\n",
    "\n"
   ]
  },
  {
   "cell_type": "code",
   "execution_count": null,
   "id": "Iifen52bylhu",
   "metadata": {
    "colab": {
     "base_uri": "https://localhost:8080/"
    },
    "id": "Iifen52bylhu",
    "outputId": "95e8960c-372d-4451-e194-efad14bc93c3"
   },
   "outputs": [
    {
     "name": "stdout",
     "output_type": "stream",
     "text": [
      "Mean Precision at 10: 0.089\n",
      "Mean Recall at 10: 0.186\n"
     ]
    }
   ],
   "source": [
    "# Calculate mean of precision and recall\n",
    "mean_precision = sum(precisions) / len(precisions) if precisions else 0\n",
    "mean_recall = sum(recalls) / len(recalls) if recalls else 0\n",
    "\n",
    "# Print mean precision and recall\n",
    "print(f\"Mean Precision at 10: {round(mean_precision, 3)}\")\n",
    "print(f\"Mean Recall at 10: {round(mean_recall, 3)}\")"
   ]
  },
  {
   "cell_type": "code",
   "execution_count": null,
   "id": "U2Kk9GWQwWCi",
   "metadata": {
    "colab": {
     "base_uri": "https://localhost:8080/"
    },
    "id": "U2Kk9GWQwWCi",
    "outputId": "315c88a5-fd0d-4e17-ea8d-21b2cca246e3"
   },
   "outputs": [
    {
     "name": "stdout",
     "output_type": "stream",
     "text": [
      "MAP@10 = 0.1055\n"
     ]
    }
   ],
   "source": [
    "def calculate_map_at_k(top_10_similarities: pd.DataFrame, qrels: pd.DataFrame, k: int = 10) -> float:\n",
    "    # Ensure correct data types\n",
    "    top_10_similarities = top_10_similarities.astype({\"query_id\": int, \"doc_id\": int, \"similarity\": float})\n",
    "    qrels = qrels.astype({\"query_id\": int, \"doc_id\": int, \"relevance\": int})\n",
    "\n",
    "    # Parse qrels to create a dictionary of relevant documents for each query\n",
    "    qrels_dict = {}\n",
    "    for entry in qrels.itertuples(index=False):\n",
    "        query_id = entry.query_id\n",
    "        doc_id = entry.doc_id\n",
    "        if query_id not in qrels_dict:\n",
    "            qrels_dict[query_id] = []\n",
    "        qrels_dict[query_id].append(doc_id)\n",
    "\n",
    "    # Parse top_similarity to create a list of predicted documents for each query\n",
    "    predicted_dict = {}\n",
    "    for entry in top_10_similarities.itertuples(index=False):\n",
    "        query_id = entry.query_id\n",
    "        doc_id = entry.doc_id\n",
    "        if query_id not in predicted_dict:\n",
    "            predicted_dict[query_id] = []\n",
    "        predicted_dict[query_id].append(doc_id)\n",
    "\n",
    "    # Initialize variables\n",
    "    Q = len(qrels_dict)  # number of queries\n",
    "    ap = []\n",
    "\n",
    "    # Calculate AP for each query\n",
    "    for q in qrels_dict:\n",
    "        actual = qrels_dict[q]\n",
    "        predicted = predicted_dict.get(q, [])\n",
    "        ap_num = 0\n",
    "        rel_count = 0\n",
    "\n",
    "        for x in range(min(k, len(predicted))):\n",
    "            if predicted[x] in actual:\n",
    "                rel_count += 1\n",
    "                precision_at_k = rel_count / (x + 1)\n",
    "                ap_num += precision_at_k\n",
    "\n",
    "        if len(actual) > 0:\n",
    "            ap_q = ap_num / len(actual)\n",
    "            ap.append(ap_q)\n",
    "\n",
    "    # Calculate MAP\n",
    "    map_at_k = sum(ap) / Q\n",
    "    return round(map_at_k, 4)\n",
    "    # return map_at_k\n",
    "\n",
    "# Example usage:\n",
    "k = 10\n",
    "map_at_k = calculate_map_at_k(top_10_similarities, qrels, k = 10)\n",
    "print(f\"MAP@{k} = {map_at_k}\")"
   ]
  },
  {
   "cell_type": "code",
   "execution_count": null,
   "id": "gnLQVU-hnYsQ",
   "metadata": {
    "colab": {
     "base_uri": "https://localhost:8080/"
    },
    "id": "gnLQVU-hnYsQ",
    "outputId": "285f1d71-bc94-4c76-a224-38c49543e22e"
   },
   "outputs": [
    {
     "name": "stdout",
     "output_type": "stream",
     "text": [
      "MRR = 0.28\n"
     ]
    }
   ],
   "source": [
    "def calculate_mrr(qrels: pd.DataFrame, predicted_dict: dict) -> float:\n",
    "    # Ensure correct data types\n",
    "    qrels = qrels.astype({\"query_id\": int, \"doc_id\": int, \"relevance\": int})\n",
    "\n",
    "    # Parse qrels to create a dictionary of relevant documents for each query\n",
    "    qrels_dict = {}\n",
    "    for entry in qrels.itertuples(index=False):\n",
    "        query_id = entry.query_id\n",
    "        doc_id = entry.doc_id\n",
    "        if query_id not in qrels_dict:\n",
    "            qrels_dict[query_id] = []\n",
    "        qrels_dict[query_id].append(doc_id)\n",
    "\n",
    "    # Initialize variables\n",
    "    Q = len(qrels_dict)  # number of queries\n",
    "    cumulative_reciprocal = 0\n",
    "\n",
    "    # Calculate the reciprocal of the first actual relevant rank for each query\n",
    "    for query_id, actual_docs in qrels_dict.items():\n",
    "        if query_id in predicted_dict:\n",
    "            predicted_docs = predicted_dict[query_id]\n",
    "            for rank, doc_id in enumerate(predicted_docs, start=1):\n",
    "                if doc_id in actual_docs:\n",
    "                    cumulative_reciprocal += 1 / rank\n",
    "                    break\n",
    "\n",
    "    # Calculate MRR\n",
    "    mrr = cumulative_reciprocal / Q\n",
    "\n",
    "    # Generate results\n",
    "    return round(mrr, 2)\n",
    "\n",
    "# Generate predicted_dict from top_10_similarities for MRR calculation\n",
    "predicted_dict = {}\n",
    "for entry in top_10_similarities.itertuples(index=False):\n",
    "    query_id = entry.query_id\n",
    "    doc_id = entry.doc_id\n",
    "    if query_id not in predicted_dict:\n",
    "        predicted_dict[query_id] = []\n",
    "    predicted_dict[query_id].append(doc_id)\n",
    "\n",
    "# Calculate MRR\n",
    "mrr = calculate_mrr(qrels, predicted_dict)\n",
    "print(f\"MRR = {mrr}\")"
   ]
  },
  {
   "cell_type": "code",
   "execution_count": null,
   "id": "Bq3pU0Bduybu",
   "metadata": {
    "id": "Bq3pU0Bduybu"
   },
   "outputs": [],
   "source": []
  }
 ],
 "metadata": {
  "colab": {
   "collapsed_sections": [
    "8a650d6c-bec6-46e0-8638-e52e2a5226c4",
    "6612f676-5686-4d48-b428-53e849318c1c",
    "67b61c60-ba15-4ca8-b675-37529d7b2539",
    "43b71e99-2c1f-4b4c-a88b-52433ca32eb1",
    "365410cd-09e7-45cb-b2eb-e800123478ce",
    "678456c7-4bb5-4f4e-9cb8-d600f4b656b9",
    "03c1e632-a750-4aaa-978d-7411da2eab00",
    "2f97b0f3-fb69-4bbb-9f47-7c42708c73e9",
    "wtn9rumSXjsh"
   ],
   "provenance": []
  },
  "kernelspec": {
   "display_name": "Python 3 (ipykernel)",
   "language": "python",
   "name": "python3"
  },
  "language_info": {
   "codemirror_mode": {
    "name": "ipython",
    "version": 3
   },
   "file_extension": ".py",
   "mimetype": "text/x-python",
   "name": "python",
   "nbconvert_exporter": "python",
   "pygments_lexer": "ipython3",
   "version": "3.11.7"
  }
 },
 "nbformat": 4,
 "nbformat_minor": 5
}
